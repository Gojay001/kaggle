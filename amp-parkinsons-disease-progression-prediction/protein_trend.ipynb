{
 "cells": [
  {
   "attachments": {},
   "cell_type": "markdown",
   "metadata": {},
   "source": [
    "## Idea:\n",
    "* Use month trend from [Only Trends](https://www.kaggle.com/code/vitalykudelya/only-trends)\n",
    "* Divide NPX values of a protein into several groups and find the best shift after month trend predicitons for each group\n",
    "* Sum predictions from the month trend and the corresponding NPX group shift"
   ]
  },
  {
   "cell_type": "code",
   "execution_count": 1,
   "metadata": {},
   "outputs": [],
   "source": [
    "import pandas as pd\n",
    "import numpy as np\n",
    "from collections import defaultdict\n",
    "from tqdm.auto import tqdm\n",
    "\n",
    "import plotly.express as px\n",
    "\n",
    "# import amp_pd_peptide\n",
    "\n",
    "from scipy.optimize import minimize"
   ]
  },
  {
   "attachments": {},
   "cell_type": "markdown",
   "metadata": {},
   "source": [
    "## Generate Train Dataset"
   ]
  },
  {
   "cell_type": "code",
   "execution_count": 2,
   "metadata": {},
   "outputs": [
    {
     "name": "stdout",
     "output_type": "stream",
     "text": [
      "(2615, 8)\n",
      "(232741, 5)\n"
     ]
    },
    {
     "data": {
      "text/html": [
       "<div>\n",
       "<style scoped>\n",
       "    .dataframe tbody tr th:only-of-type {\n",
       "        vertical-align: middle;\n",
       "    }\n",
       "\n",
       "    .dataframe tbody tr th {\n",
       "        vertical-align: top;\n",
       "    }\n",
       "\n",
       "    .dataframe thead th {\n",
       "        text-align: right;\n",
       "    }\n",
       "</style>\n",
       "<table border=\"1\" class=\"dataframe\">\n",
       "  <thead>\n",
       "    <tr style=\"text-align: right;\">\n",
       "      <th>UniProt</th>\n",
       "      <th>O00391</th>\n",
       "      <th>O00533</th>\n",
       "      <th>O00584</th>\n",
       "      <th>O14498</th>\n",
       "      <th>O14773</th>\n",
       "      <th>O14791</th>\n",
       "      <th>O15240</th>\n",
       "      <th>O15394</th>\n",
       "      <th>O43505</th>\n",
       "      <th>O60888</th>\n",
       "      <th>...</th>\n",
       "      <th>Q9HDC9</th>\n",
       "      <th>Q9NQ79</th>\n",
       "      <th>Q9NYU2</th>\n",
       "      <th>Q9UBR2</th>\n",
       "      <th>Q9UBX5</th>\n",
       "      <th>Q9UHG2</th>\n",
       "      <th>Q9UKV8</th>\n",
       "      <th>Q9UNU6</th>\n",
       "      <th>Q9Y646</th>\n",
       "      <th>Q9Y6R7</th>\n",
       "    </tr>\n",
       "    <tr>\n",
       "      <th>visit_id</th>\n",
       "      <th></th>\n",
       "      <th></th>\n",
       "      <th></th>\n",
       "      <th></th>\n",
       "      <th></th>\n",
       "      <th></th>\n",
       "      <th></th>\n",
       "      <th></th>\n",
       "      <th></th>\n",
       "      <th></th>\n",
       "      <th></th>\n",
       "      <th></th>\n",
       "      <th></th>\n",
       "      <th></th>\n",
       "      <th></th>\n",
       "      <th></th>\n",
       "      <th></th>\n",
       "      <th></th>\n",
       "      <th></th>\n",
       "      <th></th>\n",
       "      <th></th>\n",
       "    </tr>\n",
       "  </thead>\n",
       "  <tbody>\n",
       "    <tr>\n",
       "      <th>10053_0</th>\n",
       "      <td>9104.27</td>\n",
       "      <td>402321.0</td>\n",
       "      <td>NaN</td>\n",
       "      <td>NaN</td>\n",
       "      <td>7150.57</td>\n",
       "      <td>2497.84</td>\n",
       "      <td>83002.9</td>\n",
       "      <td>15113.6</td>\n",
       "      <td>167327.0</td>\n",
       "      <td>129048.0</td>\n",
       "      <td>...</td>\n",
       "      <td>NaN</td>\n",
       "      <td>9469.45</td>\n",
       "      <td>94237.6</td>\n",
       "      <td>NaN</td>\n",
       "      <td>23016.0</td>\n",
       "      <td>177983.0</td>\n",
       "      <td>65900.0</td>\n",
       "      <td>15382.0</td>\n",
       "      <td>NaN</td>\n",
       "      <td>19017.40</td>\n",
       "    </tr>\n",
       "    <tr>\n",
       "      <th>10053_12</th>\n",
       "      <td>10464.20</td>\n",
       "      <td>435586.0</td>\n",
       "      <td>NaN</td>\n",
       "      <td>NaN</td>\n",
       "      <td>NaN</td>\n",
       "      <td>NaN</td>\n",
       "      <td>197117.0</td>\n",
       "      <td>15099.1</td>\n",
       "      <td>164268.0</td>\n",
       "      <td>108114.0</td>\n",
       "      <td>...</td>\n",
       "      <td>NaN</td>\n",
       "      <td>14408.40</td>\n",
       "      <td>NaN</td>\n",
       "      <td>NaN</td>\n",
       "      <td>28537.0</td>\n",
       "      <td>171733.0</td>\n",
       "      <td>65668.1</td>\n",
       "      <td>NaN</td>\n",
       "      <td>9295.65</td>\n",
       "      <td>25697.80</td>\n",
       "    </tr>\n",
       "    <tr>\n",
       "      <th>10053_18</th>\n",
       "      <td>13235.70</td>\n",
       "      <td>507386.0</td>\n",
       "      <td>7126.96</td>\n",
       "      <td>24525.7</td>\n",
       "      <td>NaN</td>\n",
       "      <td>2372.71</td>\n",
       "      <td>126506.0</td>\n",
       "      <td>16289.6</td>\n",
       "      <td>168107.0</td>\n",
       "      <td>163776.0</td>\n",
       "      <td>...</td>\n",
       "      <td>317477.0</td>\n",
       "      <td>38667.20</td>\n",
       "      <td>111107.0</td>\n",
       "      <td>NaN</td>\n",
       "      <td>37932.6</td>\n",
       "      <td>245188.0</td>\n",
       "      <td>59986.1</td>\n",
       "      <td>10813.3</td>\n",
       "      <td>NaN</td>\n",
       "      <td>29102.70</td>\n",
       "    </tr>\n",
       "    <tr>\n",
       "      <th>10138_12</th>\n",
       "      <td>12600.20</td>\n",
       "      <td>494581.0</td>\n",
       "      <td>9165.06</td>\n",
       "      <td>27193.5</td>\n",
       "      <td>22506.10</td>\n",
       "      <td>6015.90</td>\n",
       "      <td>156313.0</td>\n",
       "      <td>54546.4</td>\n",
       "      <td>204013.0</td>\n",
       "      <td>56725.0</td>\n",
       "      <td>...</td>\n",
       "      <td>557904.0</td>\n",
       "      <td>44556.90</td>\n",
       "      <td>155619.0</td>\n",
       "      <td>14647.90</td>\n",
       "      <td>36927.7</td>\n",
       "      <td>229232.0</td>\n",
       "      <td>106564.0</td>\n",
       "      <td>26077.7</td>\n",
       "      <td>21441.80</td>\n",
       "      <td>7642.42</td>\n",
       "    </tr>\n",
       "    <tr>\n",
       "      <th>10138_24</th>\n",
       "      <td>12003.20</td>\n",
       "      <td>522138.0</td>\n",
       "      <td>4498.51</td>\n",
       "      <td>17189.8</td>\n",
       "      <td>29112.40</td>\n",
       "      <td>2665.15</td>\n",
       "      <td>151169.0</td>\n",
       "      <td>52338.1</td>\n",
       "      <td>240892.0</td>\n",
       "      <td>85767.1</td>\n",
       "      <td>...</td>\n",
       "      <td>NaN</td>\n",
       "      <td>47836.70</td>\n",
       "      <td>177619.0</td>\n",
       "      <td>17061.10</td>\n",
       "      <td>25510.4</td>\n",
       "      <td>176722.0</td>\n",
       "      <td>59471.4</td>\n",
       "      <td>12639.2</td>\n",
       "      <td>15091.40</td>\n",
       "      <td>6168.55</td>\n",
       "    </tr>\n",
       "    <tr>\n",
       "      <th>...</th>\n",
       "      <td>...</td>\n",
       "      <td>...</td>\n",
       "      <td>...</td>\n",
       "      <td>...</td>\n",
       "      <td>...</td>\n",
       "      <td>...</td>\n",
       "      <td>...</td>\n",
       "      <td>...</td>\n",
       "      <td>...</td>\n",
       "      <td>...</td>\n",
       "      <td>...</td>\n",
       "      <td>...</td>\n",
       "      <td>...</td>\n",
       "      <td>...</td>\n",
       "      <td>...</td>\n",
       "      <td>...</td>\n",
       "      <td>...</td>\n",
       "      <td>...</td>\n",
       "      <td>...</td>\n",
       "      <td>...</td>\n",
       "      <td>...</td>\n",
       "    </tr>\n",
       "    <tr>\n",
       "      <th>8699_24</th>\n",
       "      <td>9983.00</td>\n",
       "      <td>400290.0</td>\n",
       "      <td>24240.10</td>\n",
       "      <td>NaN</td>\n",
       "      <td>16943.50</td>\n",
       "      <td>6303.17</td>\n",
       "      <td>77493.6</td>\n",
       "      <td>46435.3</td>\n",
       "      <td>254247.0</td>\n",
       "      <td>138910.0</td>\n",
       "      <td>...</td>\n",
       "      <td>NaN</td>\n",
       "      <td>25690.60</td>\n",
       "      <td>NaN</td>\n",
       "      <td>6859.82</td>\n",
       "      <td>19106.7</td>\n",
       "      <td>121161.0</td>\n",
       "      <td>113872.0</td>\n",
       "      <td>14413.9</td>\n",
       "      <td>28225.50</td>\n",
       "      <td>8062.07</td>\n",
       "    </tr>\n",
       "    <tr>\n",
       "      <th>942_12</th>\n",
       "      <td>6757.32</td>\n",
       "      <td>360858.0</td>\n",
       "      <td>18367.60</td>\n",
       "      <td>14760.7</td>\n",
       "      <td>18603.40</td>\n",
       "      <td>1722.77</td>\n",
       "      <td>86847.4</td>\n",
       "      <td>37741.3</td>\n",
       "      <td>212132.0</td>\n",
       "      <td>100519.0</td>\n",
       "      <td>...</td>\n",
       "      <td>45742.3</td>\n",
       "      <td>33518.60</td>\n",
       "      <td>94049.7</td>\n",
       "      <td>13415.70</td>\n",
       "      <td>21324.7</td>\n",
       "      <td>234094.0</td>\n",
       "      <td>82410.4</td>\n",
       "      <td>19183.7</td>\n",
       "      <td>17804.10</td>\n",
       "      <td>12277.00</td>\n",
       "    </tr>\n",
       "    <tr>\n",
       "      <th>942_24</th>\n",
       "      <td>NaN</td>\n",
       "      <td>352722.0</td>\n",
       "      <td>22834.90</td>\n",
       "      <td>23393.1</td>\n",
       "      <td>16693.50</td>\n",
       "      <td>1487.91</td>\n",
       "      <td>114772.0</td>\n",
       "      <td>36095.7</td>\n",
       "      <td>185836.0</td>\n",
       "      <td>99183.5</td>\n",
       "      <td>...</td>\n",
       "      <td>180475.0</td>\n",
       "      <td>29770.60</td>\n",
       "      <td>95949.9</td>\n",
       "      <td>11344.40</td>\n",
       "      <td>23637.6</td>\n",
       "      <td>256654.0</td>\n",
       "      <td>76931.9</td>\n",
       "      <td>19168.2</td>\n",
       "      <td>19215.90</td>\n",
       "      <td>14625.60</td>\n",
       "    </tr>\n",
       "    <tr>\n",
       "      <th>942_48</th>\n",
       "      <td>11627.80</td>\n",
       "      <td>251820.0</td>\n",
       "      <td>22046.50</td>\n",
       "      <td>26360.5</td>\n",
       "      <td>22440.20</td>\n",
       "      <td>2117.43</td>\n",
       "      <td>82241.9</td>\n",
       "      <td>30146.6</td>\n",
       "      <td>167633.0</td>\n",
       "      <td>84875.1</td>\n",
       "      <td>...</td>\n",
       "      <td>197987.0</td>\n",
       "      <td>29283.80</td>\n",
       "      <td>121696.0</td>\n",
       "      <td>19169.80</td>\n",
       "      <td>16724.9</td>\n",
       "      <td>232301.0</td>\n",
       "      <td>96905.9</td>\n",
       "      <td>21120.9</td>\n",
       "      <td>14089.80</td>\n",
       "      <td>16418.50</td>\n",
       "    </tr>\n",
       "    <tr>\n",
       "      <th>942_6</th>\n",
       "      <td>11218.70</td>\n",
       "      <td>399518.0</td>\n",
       "      <td>20581.00</td>\n",
       "      <td>31290.9</td>\n",
       "      <td>6173.58</td>\n",
       "      <td>2564.37</td>\n",
       "      <td>160526.0</td>\n",
       "      <td>43423.1</td>\n",
       "      <td>165524.0</td>\n",
       "      <td>85272.7</td>\n",
       "      <td>...</td>\n",
       "      <td>253373.0</td>\n",
       "      <td>27431.80</td>\n",
       "      <td>93796.7</td>\n",
       "      <td>17450.90</td>\n",
       "      <td>21299.1</td>\n",
       "      <td>306621.0</td>\n",
       "      <td>82335.5</td>\n",
       "      <td>24018.7</td>\n",
       "      <td>18939.50</td>\n",
       "      <td>15251.20</td>\n",
       "    </tr>\n",
       "  </tbody>\n",
       "</table>\n",
       "<p>1113 rows × 227 columns</p>\n",
       "</div>"
      ],
      "text/plain": [
       "UniProt     O00391    O00533    O00584   O14498    O14773   O14791    O15240  \\\n",
       "visit_id                                                                       \n",
       "10053_0    9104.27  402321.0       NaN      NaN   7150.57  2497.84   83002.9   \n",
       "10053_12  10464.20  435586.0       NaN      NaN       NaN      NaN  197117.0   \n",
       "10053_18  13235.70  507386.0   7126.96  24525.7       NaN  2372.71  126506.0   \n",
       "10138_12  12600.20  494581.0   9165.06  27193.5  22506.10  6015.90  156313.0   \n",
       "10138_24  12003.20  522138.0   4498.51  17189.8  29112.40  2665.15  151169.0   \n",
       "...            ...       ...       ...      ...       ...      ...       ...   \n",
       "8699_24    9983.00  400290.0  24240.10      NaN  16943.50  6303.17   77493.6   \n",
       "942_12     6757.32  360858.0  18367.60  14760.7  18603.40  1722.77   86847.4   \n",
       "942_24         NaN  352722.0  22834.90  23393.1  16693.50  1487.91  114772.0   \n",
       "942_48    11627.80  251820.0  22046.50  26360.5  22440.20  2117.43   82241.9   \n",
       "942_6     11218.70  399518.0  20581.00  31290.9   6173.58  2564.37  160526.0   \n",
       "\n",
       "UniProt    O15394    O43505    O60888  ...    Q9HDC9    Q9NQ79    Q9NYU2  \\\n",
       "visit_id                               ...                                 \n",
       "10053_0   15113.6  167327.0  129048.0  ...       NaN   9469.45   94237.6   \n",
       "10053_12  15099.1  164268.0  108114.0  ...       NaN  14408.40       NaN   \n",
       "10053_18  16289.6  168107.0  163776.0  ...  317477.0  38667.20  111107.0   \n",
       "10138_12  54546.4  204013.0   56725.0  ...  557904.0  44556.90  155619.0   \n",
       "10138_24  52338.1  240892.0   85767.1  ...       NaN  47836.70  177619.0   \n",
       "...           ...       ...       ...  ...       ...       ...       ...   \n",
       "8699_24   46435.3  254247.0  138910.0  ...       NaN  25690.60       NaN   \n",
       "942_12    37741.3  212132.0  100519.0  ...   45742.3  33518.60   94049.7   \n",
       "942_24    36095.7  185836.0   99183.5  ...  180475.0  29770.60   95949.9   \n",
       "942_48    30146.6  167633.0   84875.1  ...  197987.0  29283.80  121696.0   \n",
       "942_6     43423.1  165524.0   85272.7  ...  253373.0  27431.80   93796.7   \n",
       "\n",
       "UniProt     Q9UBR2   Q9UBX5    Q9UHG2    Q9UKV8   Q9UNU6    Q9Y646    Q9Y6R7  \n",
       "visit_id                                                                      \n",
       "10053_0        NaN  23016.0  177983.0   65900.0  15382.0       NaN  19017.40  \n",
       "10053_12       NaN  28537.0  171733.0   65668.1      NaN   9295.65  25697.80  \n",
       "10053_18       NaN  37932.6  245188.0   59986.1  10813.3       NaN  29102.70  \n",
       "10138_12  14647.90  36927.7  229232.0  106564.0  26077.7  21441.80   7642.42  \n",
       "10138_24  17061.10  25510.4  176722.0   59471.4  12639.2  15091.40   6168.55  \n",
       "...            ...      ...       ...       ...      ...       ...       ...  \n",
       "8699_24    6859.82  19106.7  121161.0  113872.0  14413.9  28225.50   8062.07  \n",
       "942_12    13415.70  21324.7  234094.0   82410.4  19183.7  17804.10  12277.00  \n",
       "942_24    11344.40  23637.6  256654.0   76931.9  19168.2  19215.90  14625.60  \n",
       "942_48    19169.80  16724.9  232301.0   96905.9  21120.9  14089.80  16418.50  \n",
       "942_6     17450.90  21299.1  306621.0   82335.5  24018.7  18939.50  15251.20  \n",
       "\n",
       "[1113 rows x 227 columns]"
      ]
     },
     "metadata": {},
     "output_type": "display_data"
    },
    {
     "data": {
      "text/html": [
       "<div>\n",
       "<style scoped>\n",
       "    .dataframe tbody tr th:only-of-type {\n",
       "        vertical-align: middle;\n",
       "    }\n",
       "\n",
       "    .dataframe tbody tr th {\n",
       "        vertical-align: top;\n",
       "    }\n",
       "\n",
       "    .dataframe thead th {\n",
       "        text-align: right;\n",
       "    }\n",
       "</style>\n",
       "<table border=\"1\" class=\"dataframe\">\n",
       "  <thead>\n",
       "    <tr style=\"text-align: right;\">\n",
       "      <th></th>\n",
       "      <th>visit_id</th>\n",
       "      <th>patient_id</th>\n",
       "      <th>visit_month</th>\n",
       "      <th>updrs_1</th>\n",
       "      <th>updrs_2</th>\n",
       "      <th>updrs_3</th>\n",
       "      <th>updrs_4</th>\n",
       "      <th>upd23b_clinical_state_on_medication</th>\n",
       "      <th>O00391</th>\n",
       "      <th>O00533</th>\n",
       "      <th>...</th>\n",
       "      <th>Q9HDC9</th>\n",
       "      <th>Q9NQ79</th>\n",
       "      <th>Q9NYU2</th>\n",
       "      <th>Q9UBR2</th>\n",
       "      <th>Q9UBX5</th>\n",
       "      <th>Q9UHG2</th>\n",
       "      <th>Q9UKV8</th>\n",
       "      <th>Q9UNU6</th>\n",
       "      <th>Q9Y646</th>\n",
       "      <th>Q9Y6R7</th>\n",
       "    </tr>\n",
       "  </thead>\n",
       "  <tbody>\n",
       "    <tr>\n",
       "      <th>0</th>\n",
       "      <td>55_0</td>\n",
       "      <td>55</td>\n",
       "      <td>0</td>\n",
       "      <td>10.0</td>\n",
       "      <td>6.0</td>\n",
       "      <td>15.0</td>\n",
       "      <td>NaN</td>\n",
       "      <td>NaN</td>\n",
       "      <td>11254.3</td>\n",
       "      <td>732430.0</td>\n",
       "      <td>...</td>\n",
       "      <td>365475.0</td>\n",
       "      <td>35528.0</td>\n",
       "      <td>97005.6</td>\n",
       "      <td>23122.5</td>\n",
       "      <td>60912.6</td>\n",
       "      <td>408698.0</td>\n",
       "      <td>NaN</td>\n",
       "      <td>29758.8</td>\n",
       "      <td>23833.7</td>\n",
       "      <td>18953.5</td>\n",
       "    </tr>\n",
       "    <tr>\n",
       "      <th>1</th>\n",
       "      <td>55_3</td>\n",
       "      <td>55</td>\n",
       "      <td>3</td>\n",
       "      <td>10.0</td>\n",
       "      <td>7.0</td>\n",
       "      <td>25.0</td>\n",
       "      <td>NaN</td>\n",
       "      <td>NaN</td>\n",
       "      <td>NaN</td>\n",
       "      <td>NaN</td>\n",
       "      <td>...</td>\n",
       "      <td>NaN</td>\n",
       "      <td>NaN</td>\n",
       "      <td>NaN</td>\n",
       "      <td>NaN</td>\n",
       "      <td>NaN</td>\n",
       "      <td>NaN</td>\n",
       "      <td>NaN</td>\n",
       "      <td>NaN</td>\n",
       "      <td>NaN</td>\n",
       "      <td>NaN</td>\n",
       "    </tr>\n",
       "    <tr>\n",
       "      <th>2</th>\n",
       "      <td>55_6</td>\n",
       "      <td>55</td>\n",
       "      <td>6</td>\n",
       "      <td>8.0</td>\n",
       "      <td>10.0</td>\n",
       "      <td>34.0</td>\n",
       "      <td>NaN</td>\n",
       "      <td>NaN</td>\n",
       "      <td>13163.6</td>\n",
       "      <td>630465.0</td>\n",
       "      <td>...</td>\n",
       "      <td>405676.0</td>\n",
       "      <td>30332.6</td>\n",
       "      <td>109174.0</td>\n",
       "      <td>23499.8</td>\n",
       "      <td>51655.8</td>\n",
       "      <td>369870.0</td>\n",
       "      <td>NaN</td>\n",
       "      <td>22935.2</td>\n",
       "      <td>17722.5</td>\n",
       "      <td>16642.7</td>\n",
       "    </tr>\n",
       "    <tr>\n",
       "      <th>3</th>\n",
       "      <td>55_9</td>\n",
       "      <td>55</td>\n",
       "      <td>9</td>\n",
       "      <td>8.0</td>\n",
       "      <td>9.0</td>\n",
       "      <td>30.0</td>\n",
       "      <td>0.0</td>\n",
       "      <td>On</td>\n",
       "      <td>NaN</td>\n",
       "      <td>NaN</td>\n",
       "      <td>...</td>\n",
       "      <td>NaN</td>\n",
       "      <td>NaN</td>\n",
       "      <td>NaN</td>\n",
       "      <td>NaN</td>\n",
       "      <td>NaN</td>\n",
       "      <td>NaN</td>\n",
       "      <td>NaN</td>\n",
       "      <td>NaN</td>\n",
       "      <td>NaN</td>\n",
       "      <td>NaN</td>\n",
       "    </tr>\n",
       "    <tr>\n",
       "      <th>4</th>\n",
       "      <td>55_12</td>\n",
       "      <td>55</td>\n",
       "      <td>12</td>\n",
       "      <td>10.0</td>\n",
       "      <td>10.0</td>\n",
       "      <td>41.0</td>\n",
       "      <td>0.0</td>\n",
       "      <td>On</td>\n",
       "      <td>15257.6</td>\n",
       "      <td>815083.0</td>\n",
       "      <td>...</td>\n",
       "      <td>303953.0</td>\n",
       "      <td>43026.2</td>\n",
       "      <td>114921.0</td>\n",
       "      <td>21860.1</td>\n",
       "      <td>61598.2</td>\n",
       "      <td>318553.0</td>\n",
       "      <td>65762.6</td>\n",
       "      <td>29193.4</td>\n",
       "      <td>28536.1</td>\n",
       "      <td>19290.9</td>\n",
       "    </tr>\n",
       "    <tr>\n",
       "      <th>...</th>\n",
       "      <td>...</td>\n",
       "      <td>...</td>\n",
       "      <td>...</td>\n",
       "      <td>...</td>\n",
       "      <td>...</td>\n",
       "      <td>...</td>\n",
       "      <td>...</td>\n",
       "      <td>...</td>\n",
       "      <td>...</td>\n",
       "      <td>...</td>\n",
       "      <td>...</td>\n",
       "      <td>...</td>\n",
       "      <td>...</td>\n",
       "      <td>...</td>\n",
       "      <td>...</td>\n",
       "      <td>...</td>\n",
       "      <td>...</td>\n",
       "      <td>...</td>\n",
       "      <td>...</td>\n",
       "      <td>...</td>\n",
       "      <td>...</td>\n",
       "    </tr>\n",
       "    <tr>\n",
       "      <th>2610</th>\n",
       "      <td>65043_48</td>\n",
       "      <td>65043</td>\n",
       "      <td>48</td>\n",
       "      <td>7.0</td>\n",
       "      <td>6.0</td>\n",
       "      <td>13.0</td>\n",
       "      <td>0.0</td>\n",
       "      <td>Off</td>\n",
       "      <td>10589.6</td>\n",
       "      <td>902434.0</td>\n",
       "      <td>...</td>\n",
       "      <td>223136.0</td>\n",
       "      <td>21659.9</td>\n",
       "      <td>116470.0</td>\n",
       "      <td>14073.3</td>\n",
       "      <td>48796.4</td>\n",
       "      <td>320821.0</td>\n",
       "      <td>39046.7</td>\n",
       "      <td>NaN</td>\n",
       "      <td>20198.8</td>\n",
       "      <td>39535.0</td>\n",
       "    </tr>\n",
       "    <tr>\n",
       "      <th>2611</th>\n",
       "      <td>65043_54</td>\n",
       "      <td>65043</td>\n",
       "      <td>54</td>\n",
       "      <td>4.0</td>\n",
       "      <td>8.0</td>\n",
       "      <td>11.0</td>\n",
       "      <td>1.0</td>\n",
       "      <td>Off</td>\n",
       "      <td>NaN</td>\n",
       "      <td>NaN</td>\n",
       "      <td>...</td>\n",
       "      <td>NaN</td>\n",
       "      <td>NaN</td>\n",
       "      <td>NaN</td>\n",
       "      <td>NaN</td>\n",
       "      <td>NaN</td>\n",
       "      <td>NaN</td>\n",
       "      <td>NaN</td>\n",
       "      <td>NaN</td>\n",
       "      <td>NaN</td>\n",
       "      <td>NaN</td>\n",
       "    </tr>\n",
       "    <tr>\n",
       "      <th>2612</th>\n",
       "      <td>65043_60</td>\n",
       "      <td>65043</td>\n",
       "      <td>60</td>\n",
       "      <td>6.0</td>\n",
       "      <td>6.0</td>\n",
       "      <td>16.0</td>\n",
       "      <td>1.0</td>\n",
       "      <td>Off</td>\n",
       "      <td>NaN</td>\n",
       "      <td>NaN</td>\n",
       "      <td>...</td>\n",
       "      <td>NaN</td>\n",
       "      <td>NaN</td>\n",
       "      <td>NaN</td>\n",
       "      <td>NaN</td>\n",
       "      <td>NaN</td>\n",
       "      <td>NaN</td>\n",
       "      <td>NaN</td>\n",
       "      <td>NaN</td>\n",
       "      <td>NaN</td>\n",
       "      <td>NaN</td>\n",
       "    </tr>\n",
       "    <tr>\n",
       "      <th>2613</th>\n",
       "      <td>65043_72</td>\n",
       "      <td>65043</td>\n",
       "      <td>72</td>\n",
       "      <td>3.0</td>\n",
       "      <td>9.0</td>\n",
       "      <td>14.0</td>\n",
       "      <td>1.0</td>\n",
       "      <td>Off</td>\n",
       "      <td>NaN</td>\n",
       "      <td>NaN</td>\n",
       "      <td>...</td>\n",
       "      <td>NaN</td>\n",
       "      <td>NaN</td>\n",
       "      <td>NaN</td>\n",
       "      <td>NaN</td>\n",
       "      <td>NaN</td>\n",
       "      <td>NaN</td>\n",
       "      <td>NaN</td>\n",
       "      <td>NaN</td>\n",
       "      <td>NaN</td>\n",
       "      <td>NaN</td>\n",
       "    </tr>\n",
       "    <tr>\n",
       "      <th>2614</th>\n",
       "      <td>65043_84</td>\n",
       "      <td>65043</td>\n",
       "      <td>84</td>\n",
       "      <td>7.0</td>\n",
       "      <td>9.0</td>\n",
       "      <td>20.0</td>\n",
       "      <td>3.0</td>\n",
       "      <td>Off</td>\n",
       "      <td>NaN</td>\n",
       "      <td>NaN</td>\n",
       "      <td>...</td>\n",
       "      <td>NaN</td>\n",
       "      <td>NaN</td>\n",
       "      <td>NaN</td>\n",
       "      <td>NaN</td>\n",
       "      <td>NaN</td>\n",
       "      <td>NaN</td>\n",
       "      <td>NaN</td>\n",
       "      <td>NaN</td>\n",
       "      <td>NaN</td>\n",
       "      <td>NaN</td>\n",
       "    </tr>\n",
       "  </tbody>\n",
       "</table>\n",
       "<p>2615 rows × 235 columns</p>\n",
       "</div>"
      ],
      "text/plain": [
       "      visit_id  patient_id  visit_month  updrs_1  updrs_2  updrs_3  updrs_4  \\\n",
       "0         55_0          55            0     10.0      6.0     15.0      NaN   \n",
       "1         55_3          55            3     10.0      7.0     25.0      NaN   \n",
       "2         55_6          55            6      8.0     10.0     34.0      NaN   \n",
       "3         55_9          55            9      8.0      9.0     30.0      0.0   \n",
       "4        55_12          55           12     10.0     10.0     41.0      0.0   \n",
       "...        ...         ...          ...      ...      ...      ...      ...   \n",
       "2610  65043_48       65043           48      7.0      6.0     13.0      0.0   \n",
       "2611  65043_54       65043           54      4.0      8.0     11.0      1.0   \n",
       "2612  65043_60       65043           60      6.0      6.0     16.0      1.0   \n",
       "2613  65043_72       65043           72      3.0      9.0     14.0      1.0   \n",
       "2614  65043_84       65043           84      7.0      9.0     20.0      3.0   \n",
       "\n",
       "     upd23b_clinical_state_on_medication   O00391    O00533  ...    Q9HDC9  \\\n",
       "0                                    NaN  11254.3  732430.0  ...  365475.0   \n",
       "1                                    NaN      NaN       NaN  ...       NaN   \n",
       "2                                    NaN  13163.6  630465.0  ...  405676.0   \n",
       "3                                     On      NaN       NaN  ...       NaN   \n",
       "4                                     On  15257.6  815083.0  ...  303953.0   \n",
       "...                                  ...      ...       ...  ...       ...   \n",
       "2610                                 Off  10589.6  902434.0  ...  223136.0   \n",
       "2611                                 Off      NaN       NaN  ...       NaN   \n",
       "2612                                 Off      NaN       NaN  ...       NaN   \n",
       "2613                                 Off      NaN       NaN  ...       NaN   \n",
       "2614                                 Off      NaN       NaN  ...       NaN   \n",
       "\n",
       "       Q9NQ79    Q9NYU2   Q9UBR2   Q9UBX5    Q9UHG2   Q9UKV8   Q9UNU6  \\\n",
       "0     35528.0   97005.6  23122.5  60912.6  408698.0      NaN  29758.8   \n",
       "1         NaN       NaN      NaN      NaN       NaN      NaN      NaN   \n",
       "2     30332.6  109174.0  23499.8  51655.8  369870.0      NaN  22935.2   \n",
       "3         NaN       NaN      NaN      NaN       NaN      NaN      NaN   \n",
       "4     43026.2  114921.0  21860.1  61598.2  318553.0  65762.6  29193.4   \n",
       "...       ...       ...      ...      ...       ...      ...      ...   \n",
       "2610  21659.9  116470.0  14073.3  48796.4  320821.0  39046.7      NaN   \n",
       "2611      NaN       NaN      NaN      NaN       NaN      NaN      NaN   \n",
       "2612      NaN       NaN      NaN      NaN       NaN      NaN      NaN   \n",
       "2613      NaN       NaN      NaN      NaN       NaN      NaN      NaN   \n",
       "2614      NaN       NaN      NaN      NaN       NaN      NaN      NaN   \n",
       "\n",
       "       Q9Y646   Q9Y6R7  \n",
       "0     23833.7  18953.5  \n",
       "1         NaN      NaN  \n",
       "2     17722.5  16642.7  \n",
       "3         NaN      NaN  \n",
       "4     28536.1  19290.9  \n",
       "...       ...      ...  \n",
       "2610  20198.8  39535.0  \n",
       "2611      NaN      NaN  \n",
       "2612      NaN      NaN  \n",
       "2613      NaN      NaN  \n",
       "2614      NaN      NaN  \n",
       "\n",
       "[2615 rows x 235 columns]"
      ]
     },
     "metadata": {},
     "output_type": "display_data"
    }
   ],
   "source": [
    "train_clinical_all = pd.read_csv('./data/train_clinical_data.csv')\n",
    "print(train_clinical_all.shape)\n",
    "proteins = pd.read_csv('./data/train_proteins.csv')\n",
    "print(proteins.shape)\n",
    "proteins_features = pd.pivot_table(proteins, values='NPX', index='visit_id', columns='UniProt', aggfunc='sum')\n",
    "display(proteins_features)\n",
    "\n",
    "train_clinical_all = train_clinical_all.merge(\n",
    "    proteins_features,\n",
    "    left_on='visit_id',\n",
    "    right_index=True,\n",
    "    how='left'\n",
    ")\n",
    "display(train_clinical_all)"
   ]
  },
  {
   "cell_type": "code",
   "execution_count": 3,
   "metadata": {},
   "outputs": [
    {
     "data": {
      "text/html": [
       "<div>\n",
       "<style scoped>\n",
       "    .dataframe tbody tr th:only-of-type {\n",
       "        vertical-align: middle;\n",
       "    }\n",
       "\n",
       "    .dataframe tbody tr th {\n",
       "        vertical-align: top;\n",
       "    }\n",
       "\n",
       "    .dataframe thead th {\n",
       "        text-align: right;\n",
       "    }\n",
       "</style>\n",
       "<table border=\"1\" class=\"dataframe\">\n",
       "  <thead>\n",
       "    <tr style=\"text-align: right;\">\n",
       "      <th></th>\n",
       "      <th>visit_id</th>\n",
       "      <th>patient_id</th>\n",
       "      <th>visit_month</th>\n",
       "      <th>updrs_1</th>\n",
       "      <th>updrs_2</th>\n",
       "      <th>updrs_3</th>\n",
       "      <th>updrs_4</th>\n",
       "      <th>upd23b_clinical_state_on_medication</th>\n",
       "      <th>O00391</th>\n",
       "      <th>O00533</th>\n",
       "      <th>...</th>\n",
       "      <th>Q9HDC9</th>\n",
       "      <th>Q9NQ79</th>\n",
       "      <th>Q9NYU2</th>\n",
       "      <th>Q9UBR2</th>\n",
       "      <th>Q9UBX5</th>\n",
       "      <th>Q9UHG2</th>\n",
       "      <th>Q9UKV8</th>\n",
       "      <th>Q9UNU6</th>\n",
       "      <th>Q9Y646</th>\n",
       "      <th>Q9Y6R7</th>\n",
       "    </tr>\n",
       "  </thead>\n",
       "  <tbody>\n",
       "    <tr>\n",
       "      <th>0</th>\n",
       "      <td>55_0</td>\n",
       "      <td>55</td>\n",
       "      <td>0</td>\n",
       "      <td>10.0</td>\n",
       "      <td>6.0</td>\n",
       "      <td>15.0</td>\n",
       "      <td>NaN</td>\n",
       "      <td>NaN</td>\n",
       "      <td>11254.3</td>\n",
       "      <td>732430.0</td>\n",
       "      <td>...</td>\n",
       "      <td>365475.0</td>\n",
       "      <td>35528.0</td>\n",
       "      <td>97005.6</td>\n",
       "      <td>23122.5</td>\n",
       "      <td>60912.6</td>\n",
       "      <td>408698.0</td>\n",
       "      <td>NaN</td>\n",
       "      <td>29758.8</td>\n",
       "      <td>23833.7</td>\n",
       "      <td>18953.5</td>\n",
       "    </tr>\n",
       "    <tr>\n",
       "      <th>1</th>\n",
       "      <td>55_3</td>\n",
       "      <td>55</td>\n",
       "      <td>3</td>\n",
       "      <td>10.0</td>\n",
       "      <td>7.0</td>\n",
       "      <td>25.0</td>\n",
       "      <td>NaN</td>\n",
       "      <td>NaN</td>\n",
       "      <td>11254.3</td>\n",
       "      <td>732430.0</td>\n",
       "      <td>...</td>\n",
       "      <td>365475.0</td>\n",
       "      <td>35528.0</td>\n",
       "      <td>97005.6</td>\n",
       "      <td>23122.5</td>\n",
       "      <td>60912.6</td>\n",
       "      <td>408698.0</td>\n",
       "      <td>NaN</td>\n",
       "      <td>29758.8</td>\n",
       "      <td>23833.7</td>\n",
       "      <td>18953.5</td>\n",
       "    </tr>\n",
       "    <tr>\n",
       "      <th>2</th>\n",
       "      <td>55_6</td>\n",
       "      <td>55</td>\n",
       "      <td>6</td>\n",
       "      <td>8.0</td>\n",
       "      <td>10.0</td>\n",
       "      <td>34.0</td>\n",
       "      <td>NaN</td>\n",
       "      <td>NaN</td>\n",
       "      <td>13163.6</td>\n",
       "      <td>630465.0</td>\n",
       "      <td>...</td>\n",
       "      <td>405676.0</td>\n",
       "      <td>30332.6</td>\n",
       "      <td>109174.0</td>\n",
       "      <td>23499.8</td>\n",
       "      <td>51655.8</td>\n",
       "      <td>369870.0</td>\n",
       "      <td>NaN</td>\n",
       "      <td>22935.2</td>\n",
       "      <td>17722.5</td>\n",
       "      <td>16642.7</td>\n",
       "    </tr>\n",
       "    <tr>\n",
       "      <th>3</th>\n",
       "      <td>55_9</td>\n",
       "      <td>55</td>\n",
       "      <td>9</td>\n",
       "      <td>8.0</td>\n",
       "      <td>9.0</td>\n",
       "      <td>30.0</td>\n",
       "      <td>0.0</td>\n",
       "      <td>On</td>\n",
       "      <td>13163.6</td>\n",
       "      <td>630465.0</td>\n",
       "      <td>...</td>\n",
       "      <td>405676.0</td>\n",
       "      <td>30332.6</td>\n",
       "      <td>109174.0</td>\n",
       "      <td>23499.8</td>\n",
       "      <td>51655.8</td>\n",
       "      <td>369870.0</td>\n",
       "      <td>NaN</td>\n",
       "      <td>22935.2</td>\n",
       "      <td>17722.5</td>\n",
       "      <td>16642.7</td>\n",
       "    </tr>\n",
       "    <tr>\n",
       "      <th>4</th>\n",
       "      <td>55_12</td>\n",
       "      <td>55</td>\n",
       "      <td>12</td>\n",
       "      <td>10.0</td>\n",
       "      <td>10.0</td>\n",
       "      <td>41.0</td>\n",
       "      <td>0.0</td>\n",
       "      <td>On</td>\n",
       "      <td>15257.6</td>\n",
       "      <td>815083.0</td>\n",
       "      <td>...</td>\n",
       "      <td>303953.0</td>\n",
       "      <td>43026.2</td>\n",
       "      <td>114921.0</td>\n",
       "      <td>21860.1</td>\n",
       "      <td>61598.2</td>\n",
       "      <td>318553.0</td>\n",
       "      <td>65762.6</td>\n",
       "      <td>29193.4</td>\n",
       "      <td>28536.1</td>\n",
       "      <td>19290.9</td>\n",
       "    </tr>\n",
       "    <tr>\n",
       "      <th>...</th>\n",
       "      <td>...</td>\n",
       "      <td>...</td>\n",
       "      <td>...</td>\n",
       "      <td>...</td>\n",
       "      <td>...</td>\n",
       "      <td>...</td>\n",
       "      <td>...</td>\n",
       "      <td>...</td>\n",
       "      <td>...</td>\n",
       "      <td>...</td>\n",
       "      <td>...</td>\n",
       "      <td>...</td>\n",
       "      <td>...</td>\n",
       "      <td>...</td>\n",
       "      <td>...</td>\n",
       "      <td>...</td>\n",
       "      <td>...</td>\n",
       "      <td>...</td>\n",
       "      <td>...</td>\n",
       "      <td>...</td>\n",
       "      <td>...</td>\n",
       "    </tr>\n",
       "    <tr>\n",
       "      <th>2610</th>\n",
       "      <td>65043_48</td>\n",
       "      <td>65043</td>\n",
       "      <td>48</td>\n",
       "      <td>7.0</td>\n",
       "      <td>6.0</td>\n",
       "      <td>13.0</td>\n",
       "      <td>0.0</td>\n",
       "      <td>Off</td>\n",
       "      <td>10589.6</td>\n",
       "      <td>902434.0</td>\n",
       "      <td>...</td>\n",
       "      <td>223136.0</td>\n",
       "      <td>21659.9</td>\n",
       "      <td>116470.0</td>\n",
       "      <td>14073.3</td>\n",
       "      <td>48796.4</td>\n",
       "      <td>320821.0</td>\n",
       "      <td>39046.7</td>\n",
       "      <td>NaN</td>\n",
       "      <td>20198.8</td>\n",
       "      <td>39535.0</td>\n",
       "    </tr>\n",
       "    <tr>\n",
       "      <th>2611</th>\n",
       "      <td>65043_54</td>\n",
       "      <td>65043</td>\n",
       "      <td>54</td>\n",
       "      <td>4.0</td>\n",
       "      <td>8.0</td>\n",
       "      <td>11.0</td>\n",
       "      <td>1.0</td>\n",
       "      <td>Off</td>\n",
       "      <td>10589.6</td>\n",
       "      <td>902434.0</td>\n",
       "      <td>...</td>\n",
       "      <td>223136.0</td>\n",
       "      <td>21659.9</td>\n",
       "      <td>116470.0</td>\n",
       "      <td>14073.3</td>\n",
       "      <td>48796.4</td>\n",
       "      <td>320821.0</td>\n",
       "      <td>39046.7</td>\n",
       "      <td>NaN</td>\n",
       "      <td>20198.8</td>\n",
       "      <td>39535.0</td>\n",
       "    </tr>\n",
       "    <tr>\n",
       "      <th>2612</th>\n",
       "      <td>65043_60</td>\n",
       "      <td>65043</td>\n",
       "      <td>60</td>\n",
       "      <td>6.0</td>\n",
       "      <td>6.0</td>\n",
       "      <td>16.0</td>\n",
       "      <td>1.0</td>\n",
       "      <td>Off</td>\n",
       "      <td>10589.6</td>\n",
       "      <td>902434.0</td>\n",
       "      <td>...</td>\n",
       "      <td>223136.0</td>\n",
       "      <td>21659.9</td>\n",
       "      <td>116470.0</td>\n",
       "      <td>14073.3</td>\n",
       "      <td>48796.4</td>\n",
       "      <td>320821.0</td>\n",
       "      <td>39046.7</td>\n",
       "      <td>NaN</td>\n",
       "      <td>20198.8</td>\n",
       "      <td>39535.0</td>\n",
       "    </tr>\n",
       "    <tr>\n",
       "      <th>2613</th>\n",
       "      <td>65043_72</td>\n",
       "      <td>65043</td>\n",
       "      <td>72</td>\n",
       "      <td>3.0</td>\n",
       "      <td>9.0</td>\n",
       "      <td>14.0</td>\n",
       "      <td>1.0</td>\n",
       "      <td>Off</td>\n",
       "      <td>10589.6</td>\n",
       "      <td>902434.0</td>\n",
       "      <td>...</td>\n",
       "      <td>223136.0</td>\n",
       "      <td>21659.9</td>\n",
       "      <td>116470.0</td>\n",
       "      <td>14073.3</td>\n",
       "      <td>48796.4</td>\n",
       "      <td>320821.0</td>\n",
       "      <td>39046.7</td>\n",
       "      <td>NaN</td>\n",
       "      <td>20198.8</td>\n",
       "      <td>39535.0</td>\n",
       "    </tr>\n",
       "    <tr>\n",
       "      <th>2614</th>\n",
       "      <td>65043_84</td>\n",
       "      <td>65043</td>\n",
       "      <td>84</td>\n",
       "      <td>7.0</td>\n",
       "      <td>9.0</td>\n",
       "      <td>20.0</td>\n",
       "      <td>3.0</td>\n",
       "      <td>Off</td>\n",
       "      <td>10589.6</td>\n",
       "      <td>902434.0</td>\n",
       "      <td>...</td>\n",
       "      <td>223136.0</td>\n",
       "      <td>21659.9</td>\n",
       "      <td>116470.0</td>\n",
       "      <td>14073.3</td>\n",
       "      <td>48796.4</td>\n",
       "      <td>320821.0</td>\n",
       "      <td>39046.7</td>\n",
       "      <td>NaN</td>\n",
       "      <td>20198.8</td>\n",
       "      <td>39535.0</td>\n",
       "    </tr>\n",
       "  </tbody>\n",
       "</table>\n",
       "<p>2615 rows × 235 columns</p>\n",
       "</div>"
      ],
      "text/plain": [
       "      visit_id  patient_id  visit_month  updrs_1  updrs_2  updrs_3  updrs_4  \\\n",
       "0         55_0          55            0     10.0      6.0     15.0      NaN   \n",
       "1         55_3          55            3     10.0      7.0     25.0      NaN   \n",
       "2         55_6          55            6      8.0     10.0     34.0      NaN   \n",
       "3         55_9          55            9      8.0      9.0     30.0      0.0   \n",
       "4        55_12          55           12     10.0     10.0     41.0      0.0   \n",
       "...        ...         ...          ...      ...      ...      ...      ...   \n",
       "2610  65043_48       65043           48      7.0      6.0     13.0      0.0   \n",
       "2611  65043_54       65043           54      4.0      8.0     11.0      1.0   \n",
       "2612  65043_60       65043           60      6.0      6.0     16.0      1.0   \n",
       "2613  65043_72       65043           72      3.0      9.0     14.0      1.0   \n",
       "2614  65043_84       65043           84      7.0      9.0     20.0      3.0   \n",
       "\n",
       "     upd23b_clinical_state_on_medication   O00391    O00533  ...    Q9HDC9  \\\n",
       "0                                    NaN  11254.3  732430.0  ...  365475.0   \n",
       "1                                    NaN  11254.3  732430.0  ...  365475.0   \n",
       "2                                    NaN  13163.6  630465.0  ...  405676.0   \n",
       "3                                     On  13163.6  630465.0  ...  405676.0   \n",
       "4                                     On  15257.6  815083.0  ...  303953.0   \n",
       "...                                  ...      ...       ...  ...       ...   \n",
       "2610                                 Off  10589.6  902434.0  ...  223136.0   \n",
       "2611                                 Off  10589.6  902434.0  ...  223136.0   \n",
       "2612                                 Off  10589.6  902434.0  ...  223136.0   \n",
       "2613                                 Off  10589.6  902434.0  ...  223136.0   \n",
       "2614                                 Off  10589.6  902434.0  ...  223136.0   \n",
       "\n",
       "       Q9NQ79    Q9NYU2   Q9UBR2   Q9UBX5    Q9UHG2   Q9UKV8   Q9UNU6  \\\n",
       "0     35528.0   97005.6  23122.5  60912.6  408698.0      NaN  29758.8   \n",
       "1     35528.0   97005.6  23122.5  60912.6  408698.0      NaN  29758.8   \n",
       "2     30332.6  109174.0  23499.8  51655.8  369870.0      NaN  22935.2   \n",
       "3     30332.6  109174.0  23499.8  51655.8  369870.0      NaN  22935.2   \n",
       "4     43026.2  114921.0  21860.1  61598.2  318553.0  65762.6  29193.4   \n",
       "...       ...       ...      ...      ...       ...      ...      ...   \n",
       "2610  21659.9  116470.0  14073.3  48796.4  320821.0  39046.7      NaN   \n",
       "2611  21659.9  116470.0  14073.3  48796.4  320821.0  39046.7      NaN   \n",
       "2612  21659.9  116470.0  14073.3  48796.4  320821.0  39046.7      NaN   \n",
       "2613  21659.9  116470.0  14073.3  48796.4  320821.0  39046.7      NaN   \n",
       "2614  21659.9  116470.0  14073.3  48796.4  320821.0  39046.7      NaN   \n",
       "\n",
       "       Q9Y646   Q9Y6R7  \n",
       "0     23833.7  18953.5  \n",
       "1     23833.7  18953.5  \n",
       "2     17722.5  16642.7  \n",
       "3     17722.5  16642.7  \n",
       "4     28536.1  19290.9  \n",
       "...       ...      ...  \n",
       "2610  20198.8  39535.0  \n",
       "2611  20198.8  39535.0  \n",
       "2612  20198.8  39535.0  \n",
       "2613  20198.8  39535.0  \n",
       "2614  20198.8  39535.0  \n",
       "\n",
       "[2615 rows x 235 columns]"
      ]
     },
     "metadata": {},
     "output_type": "display_data"
    }
   ],
   "source": [
    "train_clinical_all[proteins_features.columns] = train_clinical_all.groupby('patient_id')[proteins_features.columns].fillna(method='ffill')\n",
    "# ffill = train_clinical_all.groupby('patient_id')[proteins_features.columns].fillna(method='ffill')\n",
    "# bfill = train_clinical_all.groupby('patient_id')[proteins_features.columns].fillna(method='bfill')\n",
    "# train_clinical_all[proteins_features.columns] = (ffill + bfill) / 2\n",
    "display(train_clinical_all)"
   ]
  },
  {
   "cell_type": "code",
   "execution_count": 4,
   "metadata": {},
   "outputs": [
    {
     "name": "stderr",
     "output_type": "stream",
     "text": [
      "C:\\Users\\gaojie\\AppData\\Local\\Temp\\ipykernel_3864\\1637548778.py:1: PerformanceWarning: DataFrame is highly fragmented.  This is usually the result of calling `frame.insert` many times, which has poor performance.  Consider joining all columns at once using pd.concat(axis=1) instead. To get a de-fragmented frame, use `newframe = frame.copy()`\n",
      "  train_clinical_all['pred_month'] = train_clinical_all['visit_month']\n"
     ]
    },
    {
     "data": {
      "text/html": [
       "<div>\n",
       "<style scoped>\n",
       "    .dataframe tbody tr th:only-of-type {\n",
       "        vertical-align: middle;\n",
       "    }\n",
       "\n",
       "    .dataframe tbody tr th {\n",
       "        vertical-align: top;\n",
       "    }\n",
       "\n",
       "    .dataframe thead th {\n",
       "        text-align: right;\n",
       "    }\n",
       "</style>\n",
       "<table border=\"1\" class=\"dataframe\">\n",
       "  <thead>\n",
       "    <tr style=\"text-align: right;\">\n",
       "      <th></th>\n",
       "      <th>visit_id</th>\n",
       "      <th>patient_id</th>\n",
       "      <th>visit_month</th>\n",
       "      <th>updrs_1_plus_0</th>\n",
       "      <th>updrs_2_plus_0</th>\n",
       "      <th>updrs_3_plus_0</th>\n",
       "      <th>updrs_4_plus_0</th>\n",
       "      <th>upd23b_clinical_state_on_medication</th>\n",
       "      <th>O00391</th>\n",
       "      <th>O00533</th>\n",
       "      <th>...</th>\n",
       "      <th>pred_month_plus_12</th>\n",
       "      <th>updrs_1_plus_12</th>\n",
       "      <th>updrs_2_plus_12</th>\n",
       "      <th>updrs_3_plus_12</th>\n",
       "      <th>updrs_4_plus_12</th>\n",
       "      <th>pred_month_plus_24</th>\n",
       "      <th>updrs_1_plus_24</th>\n",
       "      <th>updrs_2_plus_24</th>\n",
       "      <th>updrs_3_plus_24</th>\n",
       "      <th>updrs_4_plus_24</th>\n",
       "    </tr>\n",
       "  </thead>\n",
       "  <tbody>\n",
       "    <tr>\n",
       "      <th>0</th>\n",
       "      <td>55_0</td>\n",
       "      <td>55</td>\n",
       "      <td>0</td>\n",
       "      <td>10.0</td>\n",
       "      <td>6.0</td>\n",
       "      <td>15.0</td>\n",
       "      <td>NaN</td>\n",
       "      <td>NaN</td>\n",
       "      <td>11254.3</td>\n",
       "      <td>732430.0</td>\n",
       "      <td>...</td>\n",
       "      <td>12.0</td>\n",
       "      <td>10.0</td>\n",
       "      <td>10.0</td>\n",
       "      <td>41.0</td>\n",
       "      <td>0.0</td>\n",
       "      <td>24.0</td>\n",
       "      <td>16.0</td>\n",
       "      <td>9.0</td>\n",
       "      <td>49.0</td>\n",
       "      <td>0.0</td>\n",
       "    </tr>\n",
       "    <tr>\n",
       "      <th>1</th>\n",
       "      <td>55_3</td>\n",
       "      <td>55</td>\n",
       "      <td>3</td>\n",
       "      <td>10.0</td>\n",
       "      <td>7.0</td>\n",
       "      <td>25.0</td>\n",
       "      <td>NaN</td>\n",
       "      <td>NaN</td>\n",
       "      <td>11254.3</td>\n",
       "      <td>732430.0</td>\n",
       "      <td>...</td>\n",
       "      <td>NaN</td>\n",
       "      <td>NaN</td>\n",
       "      <td>NaN</td>\n",
       "      <td>NaN</td>\n",
       "      <td>NaN</td>\n",
       "      <td>NaN</td>\n",
       "      <td>NaN</td>\n",
       "      <td>NaN</td>\n",
       "      <td>NaN</td>\n",
       "      <td>NaN</td>\n",
       "    </tr>\n",
       "    <tr>\n",
       "      <th>2</th>\n",
       "      <td>55_6</td>\n",
       "      <td>55</td>\n",
       "      <td>6</td>\n",
       "      <td>8.0</td>\n",
       "      <td>10.0</td>\n",
       "      <td>34.0</td>\n",
       "      <td>NaN</td>\n",
       "      <td>NaN</td>\n",
       "      <td>13163.6</td>\n",
       "      <td>630465.0</td>\n",
       "      <td>...</td>\n",
       "      <td>18.0</td>\n",
       "      <td>7.0</td>\n",
       "      <td>13.0</td>\n",
       "      <td>38.0</td>\n",
       "      <td>0.0</td>\n",
       "      <td>30.0</td>\n",
       "      <td>14.0</td>\n",
       "      <td>13.0</td>\n",
       "      <td>49.0</td>\n",
       "      <td>0.0</td>\n",
       "    </tr>\n",
       "    <tr>\n",
       "      <th>3</th>\n",
       "      <td>55_9</td>\n",
       "      <td>55</td>\n",
       "      <td>9</td>\n",
       "      <td>8.0</td>\n",
       "      <td>9.0</td>\n",
       "      <td>30.0</td>\n",
       "      <td>0.0</td>\n",
       "      <td>On</td>\n",
       "      <td>13163.6</td>\n",
       "      <td>630465.0</td>\n",
       "      <td>...</td>\n",
       "      <td>NaN</td>\n",
       "      <td>NaN</td>\n",
       "      <td>NaN</td>\n",
       "      <td>NaN</td>\n",
       "      <td>NaN</td>\n",
       "      <td>NaN</td>\n",
       "      <td>NaN</td>\n",
       "      <td>NaN</td>\n",
       "      <td>NaN</td>\n",
       "      <td>NaN</td>\n",
       "    </tr>\n",
       "    <tr>\n",
       "      <th>4</th>\n",
       "      <td>55_12</td>\n",
       "      <td>55</td>\n",
       "      <td>12</td>\n",
       "      <td>10.0</td>\n",
       "      <td>10.0</td>\n",
       "      <td>41.0</td>\n",
       "      <td>0.0</td>\n",
       "      <td>On</td>\n",
       "      <td>15257.6</td>\n",
       "      <td>815083.0</td>\n",
       "      <td>...</td>\n",
       "      <td>24.0</td>\n",
       "      <td>16.0</td>\n",
       "      <td>9.0</td>\n",
       "      <td>49.0</td>\n",
       "      <td>0.0</td>\n",
       "      <td>36.0</td>\n",
       "      <td>17.0</td>\n",
       "      <td>18.0</td>\n",
       "      <td>51.0</td>\n",
       "      <td>0.0</td>\n",
       "    </tr>\n",
       "    <tr>\n",
       "      <th>...</th>\n",
       "      <td>...</td>\n",
       "      <td>...</td>\n",
       "      <td>...</td>\n",
       "      <td>...</td>\n",
       "      <td>...</td>\n",
       "      <td>...</td>\n",
       "      <td>...</td>\n",
       "      <td>...</td>\n",
       "      <td>...</td>\n",
       "      <td>...</td>\n",
       "      <td>...</td>\n",
       "      <td>...</td>\n",
       "      <td>...</td>\n",
       "      <td>...</td>\n",
       "      <td>...</td>\n",
       "      <td>...</td>\n",
       "      <td>...</td>\n",
       "      <td>...</td>\n",
       "      <td>...</td>\n",
       "      <td>...</td>\n",
       "      <td>...</td>\n",
       "    </tr>\n",
       "    <tr>\n",
       "      <th>2610</th>\n",
       "      <td>65043_48</td>\n",
       "      <td>65043</td>\n",
       "      <td>48</td>\n",
       "      <td>7.0</td>\n",
       "      <td>6.0</td>\n",
       "      <td>13.0</td>\n",
       "      <td>0.0</td>\n",
       "      <td>Off</td>\n",
       "      <td>10589.6</td>\n",
       "      <td>902434.0</td>\n",
       "      <td>...</td>\n",
       "      <td>60.0</td>\n",
       "      <td>6.0</td>\n",
       "      <td>6.0</td>\n",
       "      <td>16.0</td>\n",
       "      <td>1.0</td>\n",
       "      <td>72.0</td>\n",
       "      <td>3.0</td>\n",
       "      <td>9.0</td>\n",
       "      <td>14.0</td>\n",
       "      <td>1.0</td>\n",
       "    </tr>\n",
       "    <tr>\n",
       "      <th>2611</th>\n",
       "      <td>65043_54</td>\n",
       "      <td>65043</td>\n",
       "      <td>54</td>\n",
       "      <td>4.0</td>\n",
       "      <td>8.0</td>\n",
       "      <td>11.0</td>\n",
       "      <td>1.0</td>\n",
       "      <td>Off</td>\n",
       "      <td>10589.6</td>\n",
       "      <td>902434.0</td>\n",
       "      <td>...</td>\n",
       "      <td>NaN</td>\n",
       "      <td>NaN</td>\n",
       "      <td>NaN</td>\n",
       "      <td>NaN</td>\n",
       "      <td>NaN</td>\n",
       "      <td>NaN</td>\n",
       "      <td>NaN</td>\n",
       "      <td>NaN</td>\n",
       "      <td>NaN</td>\n",
       "      <td>NaN</td>\n",
       "    </tr>\n",
       "    <tr>\n",
       "      <th>2612</th>\n",
       "      <td>65043_60</td>\n",
       "      <td>65043</td>\n",
       "      <td>60</td>\n",
       "      <td>6.0</td>\n",
       "      <td>6.0</td>\n",
       "      <td>16.0</td>\n",
       "      <td>1.0</td>\n",
       "      <td>Off</td>\n",
       "      <td>10589.6</td>\n",
       "      <td>902434.0</td>\n",
       "      <td>...</td>\n",
       "      <td>72.0</td>\n",
       "      <td>3.0</td>\n",
       "      <td>9.0</td>\n",
       "      <td>14.0</td>\n",
       "      <td>1.0</td>\n",
       "      <td>84.0</td>\n",
       "      <td>7.0</td>\n",
       "      <td>9.0</td>\n",
       "      <td>20.0</td>\n",
       "      <td>3.0</td>\n",
       "    </tr>\n",
       "    <tr>\n",
       "      <th>2613</th>\n",
       "      <td>65043_72</td>\n",
       "      <td>65043</td>\n",
       "      <td>72</td>\n",
       "      <td>3.0</td>\n",
       "      <td>9.0</td>\n",
       "      <td>14.0</td>\n",
       "      <td>1.0</td>\n",
       "      <td>Off</td>\n",
       "      <td>10589.6</td>\n",
       "      <td>902434.0</td>\n",
       "      <td>...</td>\n",
       "      <td>84.0</td>\n",
       "      <td>7.0</td>\n",
       "      <td>9.0</td>\n",
       "      <td>20.0</td>\n",
       "      <td>3.0</td>\n",
       "      <td>NaN</td>\n",
       "      <td>NaN</td>\n",
       "      <td>NaN</td>\n",
       "      <td>NaN</td>\n",
       "      <td>NaN</td>\n",
       "    </tr>\n",
       "    <tr>\n",
       "      <th>2614</th>\n",
       "      <td>65043_84</td>\n",
       "      <td>65043</td>\n",
       "      <td>84</td>\n",
       "      <td>7.0</td>\n",
       "      <td>9.0</td>\n",
       "      <td>20.0</td>\n",
       "      <td>3.0</td>\n",
       "      <td>Off</td>\n",
       "      <td>10589.6</td>\n",
       "      <td>902434.0</td>\n",
       "      <td>...</td>\n",
       "      <td>NaN</td>\n",
       "      <td>NaN</td>\n",
       "      <td>NaN</td>\n",
       "      <td>NaN</td>\n",
       "      <td>NaN</td>\n",
       "      <td>NaN</td>\n",
       "      <td>NaN</td>\n",
       "      <td>NaN</td>\n",
       "      <td>NaN</td>\n",
       "      <td>NaN</td>\n",
       "    </tr>\n",
       "  </tbody>\n",
       "</table>\n",
       "<p>2615 rows × 251 columns</p>\n",
       "</div>"
      ],
      "text/plain": [
       "      visit_id  patient_id  visit_month  updrs_1_plus_0  updrs_2_plus_0  \\\n",
       "0         55_0          55            0            10.0             6.0   \n",
       "1         55_3          55            3            10.0             7.0   \n",
       "2         55_6          55            6             8.0            10.0   \n",
       "3         55_9          55            9             8.0             9.0   \n",
       "4        55_12          55           12            10.0            10.0   \n",
       "...        ...         ...          ...             ...             ...   \n",
       "2610  65043_48       65043           48             7.0             6.0   \n",
       "2611  65043_54       65043           54             4.0             8.0   \n",
       "2612  65043_60       65043           60             6.0             6.0   \n",
       "2613  65043_72       65043           72             3.0             9.0   \n",
       "2614  65043_84       65043           84             7.0             9.0   \n",
       "\n",
       "      updrs_3_plus_0  updrs_4_plus_0 upd23b_clinical_state_on_medication  \\\n",
       "0               15.0             NaN                                 NaN   \n",
       "1               25.0             NaN                                 NaN   \n",
       "2               34.0             NaN                                 NaN   \n",
       "3               30.0             0.0                                  On   \n",
       "4               41.0             0.0                                  On   \n",
       "...              ...             ...                                 ...   \n",
       "2610            13.0             0.0                                 Off   \n",
       "2611            11.0             1.0                                 Off   \n",
       "2612            16.0             1.0                                 Off   \n",
       "2613            14.0             1.0                                 Off   \n",
       "2614            20.0             3.0                                 Off   \n",
       "\n",
       "       O00391    O00533  ...  pred_month_plus_12  updrs_1_plus_12  \\\n",
       "0     11254.3  732430.0  ...                12.0             10.0   \n",
       "1     11254.3  732430.0  ...                 NaN              NaN   \n",
       "2     13163.6  630465.0  ...                18.0              7.0   \n",
       "3     13163.6  630465.0  ...                 NaN              NaN   \n",
       "4     15257.6  815083.0  ...                24.0             16.0   \n",
       "...       ...       ...  ...                 ...              ...   \n",
       "2610  10589.6  902434.0  ...                60.0              6.0   \n",
       "2611  10589.6  902434.0  ...                 NaN              NaN   \n",
       "2612  10589.6  902434.0  ...                72.0              3.0   \n",
       "2613  10589.6  902434.0  ...                84.0              7.0   \n",
       "2614  10589.6  902434.0  ...                 NaN              NaN   \n",
       "\n",
       "      updrs_2_plus_12  updrs_3_plus_12  updrs_4_plus_12  pred_month_plus_24  \\\n",
       "0                10.0             41.0              0.0                24.0   \n",
       "1                 NaN              NaN              NaN                 NaN   \n",
       "2                13.0             38.0              0.0                30.0   \n",
       "3                 NaN              NaN              NaN                 NaN   \n",
       "4                 9.0             49.0              0.0                36.0   \n",
       "...               ...              ...              ...                 ...   \n",
       "2610              6.0             16.0              1.0                72.0   \n",
       "2611              NaN              NaN              NaN                 NaN   \n",
       "2612              9.0             14.0              1.0                84.0   \n",
       "2613              9.0             20.0              3.0                 NaN   \n",
       "2614              NaN              NaN              NaN                 NaN   \n",
       "\n",
       "      updrs_1_plus_24  updrs_2_plus_24  updrs_3_plus_24  updrs_4_plus_24  \n",
       "0                16.0              9.0             49.0              0.0  \n",
       "1                 NaN              NaN              NaN              NaN  \n",
       "2                14.0             13.0             49.0              0.0  \n",
       "3                 NaN              NaN              NaN              NaN  \n",
       "4                17.0             18.0             51.0              0.0  \n",
       "...               ...              ...              ...              ...  \n",
       "2610              3.0              9.0             14.0              1.0  \n",
       "2611              NaN              NaN              NaN              NaN  \n",
       "2612              7.0              9.0             20.0              3.0  \n",
       "2613              NaN              NaN              NaN              NaN  \n",
       "2614              NaN              NaN              NaN              NaN  \n",
       "\n",
       "[2615 rows x 251 columns]"
      ]
     },
     "execution_count": 4,
     "metadata": {},
     "output_type": "execute_result"
    }
   ],
   "source": [
    "train_clinical_all['pred_month'] = train_clinical_all['visit_month']\n",
    "\n",
    "for plus_month in [6, 12, 24]:\n",
    "    train_shift = train_clinical_all[['patient_id', 'visit_month', 'pred_month', 'updrs_1', 'updrs_2', 'updrs_3', 'updrs_4']].copy()\n",
    "    train_shift['visit_month'] -= plus_month\n",
    "    train_shift.rename(columns={f'updrs_{i}': f'updrs_{i}_plus_{plus_month}' for i in range(1, 5)}, inplace=True)\n",
    "    train_shift.rename(columns={'pred_month': f'pred_month_plus_{plus_month}'}, inplace=True)\n",
    "    train_clinical_all = train_clinical_all.merge(train_shift, how='left', on=['patient_id', 'visit_month'])\n",
    "\n",
    "train_clinical_all.rename(columns={f'updrs_{i}': f'updrs_{i}_plus_0' for i in range(1, 5)}, inplace=True)\n",
    "train_clinical_all.rename(columns={'pred_month': f'pred_month_plus_0'}, inplace=True)\n",
    "train_clinical_all"
   ]
  },
  {
   "cell_type": "code",
   "execution_count": 5,
   "metadata": {},
   "outputs": [],
   "source": [
    "target_to_trend = {\n",
    "    'updrs_1': [5.394793062665313, 0.027091086167821344],\n",
    "    'updrs_2': [5.469498130092747, 0.02824188329658148],\n",
    "    'updrs_3': [21.182145576879183, 0.08897763331790556],\n",
    "    'updrs_4': [-4.434453480103724, 0.07531448585334258]\n",
    "}"
   ]
  },
  {
   "cell_type": "code",
   "execution_count": 6,
   "metadata": {},
   "outputs": [],
   "source": [
    "def smape_plus_1(y_true, y_pred):\n",
    "    y_true_plus_1 = y_true + 1\n",
    "    y_pred_plus_1 = y_pred + 1\n",
    "    metric = np.zeros(len(y_true_plus_1))\n",
    "    \n",
    "    numerator = np.abs(y_true_plus_1 - y_pred_plus_1)\n",
    "    denominator = ((np.abs(y_true_plus_1) + np.abs(y_pred_plus_1)) / 2)\n",
    "    \n",
    "    mask_not_zeros = (y_true_plus_1 != 0) | (y_pred_plus_1 != 0)\n",
    "    metric[mask_not_zeros] = numerator[mask_not_zeros] / denominator[mask_not_zeros]\n",
    "    \n",
    "    return 100 * np.nanmean(metric)\n",
    "\n",
    "def calculate_month_trend_predicitons(pred_month, trend):\n",
    "    if target == 'updrs_4': \n",
    "        pred_month = pred_month.clip(54, None)\n",
    "    return trend[0] + pred_month * trend[1]\n",
    "\n",
    "def calculate_predicitons_protein(protein, pred_month, protein_shift):\n",
    "    trend_pred_month = target_to_trend[target]\n",
    "    pred_month_trend = calculate_month_trend_predicitons(pred_month=pred_month, trend=trend_pred_month)\n",
    "    return np.round(pred_month_trend + protein_shift)\n",
    "\n",
    "def function_to_minimize(x):\n",
    "    metric = smape_plus_1(\n",
    "        y_true=y_true_array, \n",
    "        y_pred=calculate_predicitons_protein(\n",
    "            protein=protein_array,\n",
    "            pred_month=pred_month_array,\n",
    "            protein_shift=x[0]\n",
    "        )\n",
    "    )\n",
    "    return metric"
   ]
  },
  {
   "cell_type": "code",
   "execution_count": 7,
   "metadata": {},
   "outputs": [],
   "source": [
    "def find_best_const(train_clinical_all_filtered, target):\n",
    "    columns_with_target = [f'{target}_plus_{plus_month}' for plus_month in [0, 6, 12, 24]]\n",
    "    columns_with_pred_month = [f'pred_month_plus_{plus_month}' for plus_month in [0, 6, 12, 24]]\n",
    "    global y_true_array\n",
    "    global pred_month_array\n",
    "    global protein_array\n",
    "    y_true_array = train_clinical_all_filtered[columns_with_target].values.ravel()\n",
    "    pred_month_array = train_clinical_all_filtered[columns_with_pred_month].values.ravel()\n",
    "    protein_array = np.concatenate([train_clinical_all_filtered[feature].values] * 4)\n",
    "    result = minimize(\n",
    "        fun=function_to_minimize,\n",
    "        x0=[0.0],\n",
    "        method='Powell'\n",
    "    ).x[0]\n",
    "    return result"
   ]
  },
  {
   "attachments": {},
   "cell_type": "markdown",
   "metadata": {},
   "source": [
    "## Plot shifts"
   ]
  },
  {
   "cell_type": "code",
   "execution_count": 8,
   "metadata": {},
   "outputs": [
    {
     "data": {
      "application/vnd.jupyter.widget-view+json": {
       "model_id": "c6144b4f98154495831ddd472c7eb0b3",
       "version_major": 2,
       "version_minor": 0
      },
      "text/plain": [
       "0it [00:00, ?it/s]"
      ]
     },
     "metadata": {},
     "output_type": "display_data"
    }
   ],
   "source": [
    "feature = 'O15240'\n",
    "# feature = 'O43505'\n",
    "# display(train_clinical_all[feature])\n",
    "# print(train_clinical_all[feature].quantile(0.25))\n",
    "quantiles = [0, 0.05, 0.95, 1.0]\n",
    "\n",
    "df_plot = []\n",
    "for quantile_low, quantile_high in tqdm(zip(quantiles[:-1], quantiles[1:])):\n",
    "    item = {\n",
    "        'quantile_low': quantile_low,\n",
    "        'quantile_high': quantile_high,\n",
    "        'quantile_middle': (quantile_low + quantile_high) / 2\n",
    "    }\n",
    "    quantile_low_value = train_clinical_all[feature].quantile(quantile_low)\n",
    "    quantile_high_value = train_clinical_all[feature].quantile(quantile_high)\n",
    "    item['quantile_low_value'] = quantile_low_value\n",
    "    item['quantile_high_value'] = quantile_high_value\n",
    "    \n",
    "    if quantile_high == 1:\n",
    "        quantile_high_value += 0.00001\n",
    "        \n",
    "    train_clinical_all_filtered = train_clinical_all[\n",
    "        (train_clinical_all[feature] >= quantile_low_value)\n",
    "        & (train_clinical_all[feature] < quantile_high_value)\n",
    "    ]\n",
    "    for target in ['updrs_1', 'updrs_2', 'updrs_3', 'updrs_4']:\n",
    "        item[f'{target}_shift'] = find_best_const(train_clinical_all_filtered, target)\n",
    "    df_plot.append(item)\n",
    "    \n",
    "df_plot = pd.DataFrame(df_plot)"
   ]
  },
  {
   "cell_type": "code",
   "execution_count": 9,
   "metadata": {},
   "outputs": [
    {
     "data": {
      "text/plain": [
       "{'quantile_low': 0.95,\n",
       " 'quantile_high': 1.0,\n",
       " 'quantile_middle': 0.975,\n",
       " 'quantile_low_value': 262189.50000000006,\n",
       " 'quantile_high_value': 527697.0,\n",
       " 'updrs_1_shift': -1.0263282508723692,\n",
       " 'updrs_2_shift': -1.1431113490848273,\n",
       " 'updrs_3_shift': -5.938594166130957,\n",
       " 'updrs_4_shift': 1.776594685014621e-11}"
      ]
     },
     "metadata": {},
     "output_type": "display_data"
    },
    {
     "data": {
      "text/html": [
       "<div>\n",
       "<style scoped>\n",
       "    .dataframe tbody tr th:only-of-type {\n",
       "        vertical-align: middle;\n",
       "    }\n",
       "\n",
       "    .dataframe tbody tr th {\n",
       "        vertical-align: top;\n",
       "    }\n",
       "\n",
       "    .dataframe thead th {\n",
       "        text-align: right;\n",
       "    }\n",
       "</style>\n",
       "<table border=\"1\" class=\"dataframe\">\n",
       "  <thead>\n",
       "    <tr style=\"text-align: right;\">\n",
       "      <th></th>\n",
       "      <th>quantile_low</th>\n",
       "      <th>quantile_high</th>\n",
       "      <th>quantile_middle</th>\n",
       "      <th>quantile_low_value</th>\n",
       "      <th>quantile_high_value</th>\n",
       "      <th>updrs_1_shift</th>\n",
       "      <th>updrs_2_shift</th>\n",
       "      <th>updrs_3_shift</th>\n",
       "      <th>updrs_4_shift</th>\n",
       "    </tr>\n",
       "  </thead>\n",
       "  <tbody>\n",
       "    <tr>\n",
       "      <th>0</th>\n",
       "      <td>0.00</td>\n",
       "      <td>0.05</td>\n",
       "      <td>0.025</td>\n",
       "      <td>10717.4</td>\n",
       "      <td>31902.0</td>\n",
       "      <td>2.884078</td>\n",
       "      <td>4.215438e+00</td>\n",
       "      <td>1.158533e+01</td>\n",
       "      <td>1.776595e-11</td>\n",
       "    </tr>\n",
       "    <tr>\n",
       "      <th>1</th>\n",
       "      <td>0.05</td>\n",
       "      <td>0.95</td>\n",
       "      <td>0.500</td>\n",
       "      <td>31902.0</td>\n",
       "      <td>262189.5</td>\n",
       "      <td>0.389562</td>\n",
       "      <td>1.406451e-11</td>\n",
       "      <td>1.685180e-11</td>\n",
       "      <td>1.776595e-11</td>\n",
       "    </tr>\n",
       "    <tr>\n",
       "      <th>2</th>\n",
       "      <td>0.95</td>\n",
       "      <td>1.00</td>\n",
       "      <td>0.975</td>\n",
       "      <td>262189.5</td>\n",
       "      <td>527697.0</td>\n",
       "      <td>-1.026328</td>\n",
       "      <td>-1.143111e+00</td>\n",
       "      <td>-5.938594e+00</td>\n",
       "      <td>1.776595e-11</td>\n",
       "    </tr>\n",
       "  </tbody>\n",
       "</table>\n",
       "</div>"
      ],
      "text/plain": [
       "   quantile_low  quantile_high  quantile_middle  quantile_low_value  \\\n",
       "0          0.00           0.05            0.025             10717.4   \n",
       "1          0.05           0.95            0.500             31902.0   \n",
       "2          0.95           1.00            0.975            262189.5   \n",
       "\n",
       "   quantile_high_value  updrs_1_shift  updrs_2_shift  updrs_3_shift  \\\n",
       "0              31902.0       2.884078   4.215438e+00   1.158533e+01   \n",
       "1             262189.5       0.389562   1.406451e-11   1.685180e-11   \n",
       "2             527697.0      -1.026328  -1.143111e+00  -5.938594e+00   \n",
       "\n",
       "   updrs_4_shift  \n",
       "0   1.776595e-11  \n",
       "1   1.776595e-11  \n",
       "2   1.776595e-11  "
      ]
     },
     "metadata": {},
     "output_type": "display_data"
    }
   ],
   "source": [
    "display(item)\n",
    "display(df_plot)"
   ]
  },
  {
   "cell_type": "code",
   "execution_count": 10,
   "metadata": {},
   "outputs": [
    {
     "data": {
      "application/vnd.plotly.v1+json": {
       "config": {
        "plotlyServerURL": "https://plot.ly"
       },
       "data": [
        {
         "hovertemplate": "quantile_middle=%{x}<br>updrs_1_shift=%{y}<extra></extra>",
         "legendgroup": "",
         "line": {
          "color": "#636efa",
          "dash": "solid"
         },
         "marker": {
          "symbol": "circle"
         },
         "mode": "lines",
         "name": "",
         "orientation": "v",
         "showlegend": false,
         "type": "scatter",
         "x": [
          0.025,
          0.5,
          0.975
         ],
         "xaxis": "x",
         "y": [
          2.8840777634444907,
          0.3895616546928739,
          -1.0263282508723692
         ],
         "yaxis": "y"
        }
       ],
       "layout": {
        "legend": {
         "tracegroupgap": 0
        },
        "template": {
         "data": {
          "bar": [
           {
            "error_x": {
             "color": "#2a3f5f"
            },
            "error_y": {
             "color": "#2a3f5f"
            },
            "marker": {
             "line": {
              "color": "#E5ECF6",
              "width": 0.5
             },
             "pattern": {
              "fillmode": "overlay",
              "size": 10,
              "solidity": 0.2
             }
            },
            "type": "bar"
           }
          ],
          "barpolar": [
           {
            "marker": {
             "line": {
              "color": "#E5ECF6",
              "width": 0.5
             },
             "pattern": {
              "fillmode": "overlay",
              "size": 10,
              "solidity": 0.2
             }
            },
            "type": "barpolar"
           }
          ],
          "carpet": [
           {
            "aaxis": {
             "endlinecolor": "#2a3f5f",
             "gridcolor": "white",
             "linecolor": "white",
             "minorgridcolor": "white",
             "startlinecolor": "#2a3f5f"
            },
            "baxis": {
             "endlinecolor": "#2a3f5f",
             "gridcolor": "white",
             "linecolor": "white",
             "minorgridcolor": "white",
             "startlinecolor": "#2a3f5f"
            },
            "type": "carpet"
           }
          ],
          "choropleth": [
           {
            "colorbar": {
             "outlinewidth": 0,
             "ticks": ""
            },
            "type": "choropleth"
           }
          ],
          "contour": [
           {
            "colorbar": {
             "outlinewidth": 0,
             "ticks": ""
            },
            "colorscale": [
             [
              0,
              "#0d0887"
             ],
             [
              0.1111111111111111,
              "#46039f"
             ],
             [
              0.2222222222222222,
              "#7201a8"
             ],
             [
              0.3333333333333333,
              "#9c179e"
             ],
             [
              0.4444444444444444,
              "#bd3786"
             ],
             [
              0.5555555555555556,
              "#d8576b"
             ],
             [
              0.6666666666666666,
              "#ed7953"
             ],
             [
              0.7777777777777778,
              "#fb9f3a"
             ],
             [
              0.8888888888888888,
              "#fdca26"
             ],
             [
              1,
              "#f0f921"
             ]
            ],
            "type": "contour"
           }
          ],
          "contourcarpet": [
           {
            "colorbar": {
             "outlinewidth": 0,
             "ticks": ""
            },
            "type": "contourcarpet"
           }
          ],
          "heatmap": [
           {
            "colorbar": {
             "outlinewidth": 0,
             "ticks": ""
            },
            "colorscale": [
             [
              0,
              "#0d0887"
             ],
             [
              0.1111111111111111,
              "#46039f"
             ],
             [
              0.2222222222222222,
              "#7201a8"
             ],
             [
              0.3333333333333333,
              "#9c179e"
             ],
             [
              0.4444444444444444,
              "#bd3786"
             ],
             [
              0.5555555555555556,
              "#d8576b"
             ],
             [
              0.6666666666666666,
              "#ed7953"
             ],
             [
              0.7777777777777778,
              "#fb9f3a"
             ],
             [
              0.8888888888888888,
              "#fdca26"
             ],
             [
              1,
              "#f0f921"
             ]
            ],
            "type": "heatmap"
           }
          ],
          "heatmapgl": [
           {
            "colorbar": {
             "outlinewidth": 0,
             "ticks": ""
            },
            "colorscale": [
             [
              0,
              "#0d0887"
             ],
             [
              0.1111111111111111,
              "#46039f"
             ],
             [
              0.2222222222222222,
              "#7201a8"
             ],
             [
              0.3333333333333333,
              "#9c179e"
             ],
             [
              0.4444444444444444,
              "#bd3786"
             ],
             [
              0.5555555555555556,
              "#d8576b"
             ],
             [
              0.6666666666666666,
              "#ed7953"
             ],
             [
              0.7777777777777778,
              "#fb9f3a"
             ],
             [
              0.8888888888888888,
              "#fdca26"
             ],
             [
              1,
              "#f0f921"
             ]
            ],
            "type": "heatmapgl"
           }
          ],
          "histogram": [
           {
            "marker": {
             "pattern": {
              "fillmode": "overlay",
              "size": 10,
              "solidity": 0.2
             }
            },
            "type": "histogram"
           }
          ],
          "histogram2d": [
           {
            "colorbar": {
             "outlinewidth": 0,
             "ticks": ""
            },
            "colorscale": [
             [
              0,
              "#0d0887"
             ],
             [
              0.1111111111111111,
              "#46039f"
             ],
             [
              0.2222222222222222,
              "#7201a8"
             ],
             [
              0.3333333333333333,
              "#9c179e"
             ],
             [
              0.4444444444444444,
              "#bd3786"
             ],
             [
              0.5555555555555556,
              "#d8576b"
             ],
             [
              0.6666666666666666,
              "#ed7953"
             ],
             [
              0.7777777777777778,
              "#fb9f3a"
             ],
             [
              0.8888888888888888,
              "#fdca26"
             ],
             [
              1,
              "#f0f921"
             ]
            ],
            "type": "histogram2d"
           }
          ],
          "histogram2dcontour": [
           {
            "colorbar": {
             "outlinewidth": 0,
             "ticks": ""
            },
            "colorscale": [
             [
              0,
              "#0d0887"
             ],
             [
              0.1111111111111111,
              "#46039f"
             ],
             [
              0.2222222222222222,
              "#7201a8"
             ],
             [
              0.3333333333333333,
              "#9c179e"
             ],
             [
              0.4444444444444444,
              "#bd3786"
             ],
             [
              0.5555555555555556,
              "#d8576b"
             ],
             [
              0.6666666666666666,
              "#ed7953"
             ],
             [
              0.7777777777777778,
              "#fb9f3a"
             ],
             [
              0.8888888888888888,
              "#fdca26"
             ],
             [
              1,
              "#f0f921"
             ]
            ],
            "type": "histogram2dcontour"
           }
          ],
          "mesh3d": [
           {
            "colorbar": {
             "outlinewidth": 0,
             "ticks": ""
            },
            "type": "mesh3d"
           }
          ],
          "parcoords": [
           {
            "line": {
             "colorbar": {
              "outlinewidth": 0,
              "ticks": ""
             }
            },
            "type": "parcoords"
           }
          ],
          "pie": [
           {
            "automargin": true,
            "type": "pie"
           }
          ],
          "scatter": [
           {
            "fillpattern": {
             "fillmode": "overlay",
             "size": 10,
             "solidity": 0.2
            },
            "type": "scatter"
           }
          ],
          "scatter3d": [
           {
            "line": {
             "colorbar": {
              "outlinewidth": 0,
              "ticks": ""
             }
            },
            "marker": {
             "colorbar": {
              "outlinewidth": 0,
              "ticks": ""
             }
            },
            "type": "scatter3d"
           }
          ],
          "scattercarpet": [
           {
            "marker": {
             "colorbar": {
              "outlinewidth": 0,
              "ticks": ""
             }
            },
            "type": "scattercarpet"
           }
          ],
          "scattergeo": [
           {
            "marker": {
             "colorbar": {
              "outlinewidth": 0,
              "ticks": ""
             }
            },
            "type": "scattergeo"
           }
          ],
          "scattergl": [
           {
            "marker": {
             "colorbar": {
              "outlinewidth": 0,
              "ticks": ""
             }
            },
            "type": "scattergl"
           }
          ],
          "scattermapbox": [
           {
            "marker": {
             "colorbar": {
              "outlinewidth": 0,
              "ticks": ""
             }
            },
            "type": "scattermapbox"
           }
          ],
          "scatterpolar": [
           {
            "marker": {
             "colorbar": {
              "outlinewidth": 0,
              "ticks": ""
             }
            },
            "type": "scatterpolar"
           }
          ],
          "scatterpolargl": [
           {
            "marker": {
             "colorbar": {
              "outlinewidth": 0,
              "ticks": ""
             }
            },
            "type": "scatterpolargl"
           }
          ],
          "scatterternary": [
           {
            "marker": {
             "colorbar": {
              "outlinewidth": 0,
              "ticks": ""
             }
            },
            "type": "scatterternary"
           }
          ],
          "surface": [
           {
            "colorbar": {
             "outlinewidth": 0,
             "ticks": ""
            },
            "colorscale": [
             [
              0,
              "#0d0887"
             ],
             [
              0.1111111111111111,
              "#46039f"
             ],
             [
              0.2222222222222222,
              "#7201a8"
             ],
             [
              0.3333333333333333,
              "#9c179e"
             ],
             [
              0.4444444444444444,
              "#bd3786"
             ],
             [
              0.5555555555555556,
              "#d8576b"
             ],
             [
              0.6666666666666666,
              "#ed7953"
             ],
             [
              0.7777777777777778,
              "#fb9f3a"
             ],
             [
              0.8888888888888888,
              "#fdca26"
             ],
             [
              1,
              "#f0f921"
             ]
            ],
            "type": "surface"
           }
          ],
          "table": [
           {
            "cells": {
             "fill": {
              "color": "#EBF0F8"
             },
             "line": {
              "color": "white"
             }
            },
            "header": {
             "fill": {
              "color": "#C8D4E3"
             },
             "line": {
              "color": "white"
             }
            },
            "type": "table"
           }
          ]
         },
         "layout": {
          "annotationdefaults": {
           "arrowcolor": "#2a3f5f",
           "arrowhead": 0,
           "arrowwidth": 1
          },
          "autotypenumbers": "strict",
          "coloraxis": {
           "colorbar": {
            "outlinewidth": 0,
            "ticks": ""
           }
          },
          "colorscale": {
           "diverging": [
            [
             0,
             "#8e0152"
            ],
            [
             0.1,
             "#c51b7d"
            ],
            [
             0.2,
             "#de77ae"
            ],
            [
             0.3,
             "#f1b6da"
            ],
            [
             0.4,
             "#fde0ef"
            ],
            [
             0.5,
             "#f7f7f7"
            ],
            [
             0.6,
             "#e6f5d0"
            ],
            [
             0.7,
             "#b8e186"
            ],
            [
             0.8,
             "#7fbc41"
            ],
            [
             0.9,
             "#4d9221"
            ],
            [
             1,
             "#276419"
            ]
           ],
           "sequential": [
            [
             0,
             "#0d0887"
            ],
            [
             0.1111111111111111,
             "#46039f"
            ],
            [
             0.2222222222222222,
             "#7201a8"
            ],
            [
             0.3333333333333333,
             "#9c179e"
            ],
            [
             0.4444444444444444,
             "#bd3786"
            ],
            [
             0.5555555555555556,
             "#d8576b"
            ],
            [
             0.6666666666666666,
             "#ed7953"
            ],
            [
             0.7777777777777778,
             "#fb9f3a"
            ],
            [
             0.8888888888888888,
             "#fdca26"
            ],
            [
             1,
             "#f0f921"
            ]
           ],
           "sequentialminus": [
            [
             0,
             "#0d0887"
            ],
            [
             0.1111111111111111,
             "#46039f"
            ],
            [
             0.2222222222222222,
             "#7201a8"
            ],
            [
             0.3333333333333333,
             "#9c179e"
            ],
            [
             0.4444444444444444,
             "#bd3786"
            ],
            [
             0.5555555555555556,
             "#d8576b"
            ],
            [
             0.6666666666666666,
             "#ed7953"
            ],
            [
             0.7777777777777778,
             "#fb9f3a"
            ],
            [
             0.8888888888888888,
             "#fdca26"
            ],
            [
             1,
             "#f0f921"
            ]
           ]
          },
          "colorway": [
           "#636efa",
           "#EF553B",
           "#00cc96",
           "#ab63fa",
           "#FFA15A",
           "#19d3f3",
           "#FF6692",
           "#B6E880",
           "#FF97FF",
           "#FECB52"
          ],
          "font": {
           "color": "#2a3f5f"
          },
          "geo": {
           "bgcolor": "white",
           "lakecolor": "white",
           "landcolor": "#E5ECF6",
           "showlakes": true,
           "showland": true,
           "subunitcolor": "white"
          },
          "hoverlabel": {
           "align": "left"
          },
          "hovermode": "closest",
          "mapbox": {
           "style": "light"
          },
          "paper_bgcolor": "white",
          "plot_bgcolor": "#E5ECF6",
          "polar": {
           "angularaxis": {
            "gridcolor": "white",
            "linecolor": "white",
            "ticks": ""
           },
           "bgcolor": "#E5ECF6",
           "radialaxis": {
            "gridcolor": "white",
            "linecolor": "white",
            "ticks": ""
           }
          },
          "scene": {
           "xaxis": {
            "backgroundcolor": "#E5ECF6",
            "gridcolor": "white",
            "gridwidth": 2,
            "linecolor": "white",
            "showbackground": true,
            "ticks": "",
            "zerolinecolor": "white"
           },
           "yaxis": {
            "backgroundcolor": "#E5ECF6",
            "gridcolor": "white",
            "gridwidth": 2,
            "linecolor": "white",
            "showbackground": true,
            "ticks": "",
            "zerolinecolor": "white"
           },
           "zaxis": {
            "backgroundcolor": "#E5ECF6",
            "gridcolor": "white",
            "gridwidth": 2,
            "linecolor": "white",
            "showbackground": true,
            "ticks": "",
            "zerolinecolor": "white"
           }
          },
          "shapedefaults": {
           "line": {
            "color": "#2a3f5f"
           }
          },
          "ternary": {
           "aaxis": {
            "gridcolor": "white",
            "linecolor": "white",
            "ticks": ""
           },
           "baxis": {
            "gridcolor": "white",
            "linecolor": "white",
            "ticks": ""
           },
           "bgcolor": "#E5ECF6",
           "caxis": {
            "gridcolor": "white",
            "linecolor": "white",
            "ticks": ""
           }
          },
          "title": {
           "x": 0.05
          },
          "xaxis": {
           "automargin": true,
           "gridcolor": "white",
           "linecolor": "white",
           "ticks": "",
           "title": {
            "standoff": 15
           },
           "zerolinecolor": "white",
           "zerolinewidth": 2
          },
          "yaxis": {
           "automargin": true,
           "gridcolor": "white",
           "linecolor": "white",
           "ticks": "",
           "title": {
            "standoff": 15
           },
           "zerolinecolor": "white",
           "zerolinewidth": 2
          }
         }
        },
        "title": {
         "text": "O15240 updrs_1"
        },
        "xaxis": {
         "anchor": "y",
         "domain": [
          0,
          1
         ],
         "title": {
          "text": "quantile_middle"
         }
        },
        "yaxis": {
         "anchor": "x",
         "domain": [
          0,
          1
         ],
         "title": {
          "text": "updrs_1_shift"
         }
        }
       }
      }
     },
     "metadata": {},
     "output_type": "display_data"
    },
    {
     "data": {
      "application/vnd.plotly.v1+json": {
       "config": {
        "plotlyServerURL": "https://plot.ly"
       },
       "data": [
        {
         "hovertemplate": "quantile_middle=%{x}<br>updrs_2_shift=%{y}<extra></extra>",
         "legendgroup": "",
         "line": {
          "color": "#636efa",
          "dash": "solid"
         },
         "marker": {
          "symbol": "circle"
         },
         "mode": "lines",
         "name": "",
         "orientation": "v",
         "showlegend": false,
         "type": "scatter",
         "x": [
          0.025,
          0.5,
          0.975
         ],
         "xaxis": "x",
         "y": [
          4.215438267726712,
          1.4064511679714293e-11,
          -1.1431113490848273
         ],
         "yaxis": "y"
        }
       ],
       "layout": {
        "legend": {
         "tracegroupgap": 0
        },
        "template": {
         "data": {
          "bar": [
           {
            "error_x": {
             "color": "#2a3f5f"
            },
            "error_y": {
             "color": "#2a3f5f"
            },
            "marker": {
             "line": {
              "color": "#E5ECF6",
              "width": 0.5
             },
             "pattern": {
              "fillmode": "overlay",
              "size": 10,
              "solidity": 0.2
             }
            },
            "type": "bar"
           }
          ],
          "barpolar": [
           {
            "marker": {
             "line": {
              "color": "#E5ECF6",
              "width": 0.5
             },
             "pattern": {
              "fillmode": "overlay",
              "size": 10,
              "solidity": 0.2
             }
            },
            "type": "barpolar"
           }
          ],
          "carpet": [
           {
            "aaxis": {
             "endlinecolor": "#2a3f5f",
             "gridcolor": "white",
             "linecolor": "white",
             "minorgridcolor": "white",
             "startlinecolor": "#2a3f5f"
            },
            "baxis": {
             "endlinecolor": "#2a3f5f",
             "gridcolor": "white",
             "linecolor": "white",
             "minorgridcolor": "white",
             "startlinecolor": "#2a3f5f"
            },
            "type": "carpet"
           }
          ],
          "choropleth": [
           {
            "colorbar": {
             "outlinewidth": 0,
             "ticks": ""
            },
            "type": "choropleth"
           }
          ],
          "contour": [
           {
            "colorbar": {
             "outlinewidth": 0,
             "ticks": ""
            },
            "colorscale": [
             [
              0,
              "#0d0887"
             ],
             [
              0.1111111111111111,
              "#46039f"
             ],
             [
              0.2222222222222222,
              "#7201a8"
             ],
             [
              0.3333333333333333,
              "#9c179e"
             ],
             [
              0.4444444444444444,
              "#bd3786"
             ],
             [
              0.5555555555555556,
              "#d8576b"
             ],
             [
              0.6666666666666666,
              "#ed7953"
             ],
             [
              0.7777777777777778,
              "#fb9f3a"
             ],
             [
              0.8888888888888888,
              "#fdca26"
             ],
             [
              1,
              "#f0f921"
             ]
            ],
            "type": "contour"
           }
          ],
          "contourcarpet": [
           {
            "colorbar": {
             "outlinewidth": 0,
             "ticks": ""
            },
            "type": "contourcarpet"
           }
          ],
          "heatmap": [
           {
            "colorbar": {
             "outlinewidth": 0,
             "ticks": ""
            },
            "colorscale": [
             [
              0,
              "#0d0887"
             ],
             [
              0.1111111111111111,
              "#46039f"
             ],
             [
              0.2222222222222222,
              "#7201a8"
             ],
             [
              0.3333333333333333,
              "#9c179e"
             ],
             [
              0.4444444444444444,
              "#bd3786"
             ],
             [
              0.5555555555555556,
              "#d8576b"
             ],
             [
              0.6666666666666666,
              "#ed7953"
             ],
             [
              0.7777777777777778,
              "#fb9f3a"
             ],
             [
              0.8888888888888888,
              "#fdca26"
             ],
             [
              1,
              "#f0f921"
             ]
            ],
            "type": "heatmap"
           }
          ],
          "heatmapgl": [
           {
            "colorbar": {
             "outlinewidth": 0,
             "ticks": ""
            },
            "colorscale": [
             [
              0,
              "#0d0887"
             ],
             [
              0.1111111111111111,
              "#46039f"
             ],
             [
              0.2222222222222222,
              "#7201a8"
             ],
             [
              0.3333333333333333,
              "#9c179e"
             ],
             [
              0.4444444444444444,
              "#bd3786"
             ],
             [
              0.5555555555555556,
              "#d8576b"
             ],
             [
              0.6666666666666666,
              "#ed7953"
             ],
             [
              0.7777777777777778,
              "#fb9f3a"
             ],
             [
              0.8888888888888888,
              "#fdca26"
             ],
             [
              1,
              "#f0f921"
             ]
            ],
            "type": "heatmapgl"
           }
          ],
          "histogram": [
           {
            "marker": {
             "pattern": {
              "fillmode": "overlay",
              "size": 10,
              "solidity": 0.2
             }
            },
            "type": "histogram"
           }
          ],
          "histogram2d": [
           {
            "colorbar": {
             "outlinewidth": 0,
             "ticks": ""
            },
            "colorscale": [
             [
              0,
              "#0d0887"
             ],
             [
              0.1111111111111111,
              "#46039f"
             ],
             [
              0.2222222222222222,
              "#7201a8"
             ],
             [
              0.3333333333333333,
              "#9c179e"
             ],
             [
              0.4444444444444444,
              "#bd3786"
             ],
             [
              0.5555555555555556,
              "#d8576b"
             ],
             [
              0.6666666666666666,
              "#ed7953"
             ],
             [
              0.7777777777777778,
              "#fb9f3a"
             ],
             [
              0.8888888888888888,
              "#fdca26"
             ],
             [
              1,
              "#f0f921"
             ]
            ],
            "type": "histogram2d"
           }
          ],
          "histogram2dcontour": [
           {
            "colorbar": {
             "outlinewidth": 0,
             "ticks": ""
            },
            "colorscale": [
             [
              0,
              "#0d0887"
             ],
             [
              0.1111111111111111,
              "#46039f"
             ],
             [
              0.2222222222222222,
              "#7201a8"
             ],
             [
              0.3333333333333333,
              "#9c179e"
             ],
             [
              0.4444444444444444,
              "#bd3786"
             ],
             [
              0.5555555555555556,
              "#d8576b"
             ],
             [
              0.6666666666666666,
              "#ed7953"
             ],
             [
              0.7777777777777778,
              "#fb9f3a"
             ],
             [
              0.8888888888888888,
              "#fdca26"
             ],
             [
              1,
              "#f0f921"
             ]
            ],
            "type": "histogram2dcontour"
           }
          ],
          "mesh3d": [
           {
            "colorbar": {
             "outlinewidth": 0,
             "ticks": ""
            },
            "type": "mesh3d"
           }
          ],
          "parcoords": [
           {
            "line": {
             "colorbar": {
              "outlinewidth": 0,
              "ticks": ""
             }
            },
            "type": "parcoords"
           }
          ],
          "pie": [
           {
            "automargin": true,
            "type": "pie"
           }
          ],
          "scatter": [
           {
            "fillpattern": {
             "fillmode": "overlay",
             "size": 10,
             "solidity": 0.2
            },
            "type": "scatter"
           }
          ],
          "scatter3d": [
           {
            "line": {
             "colorbar": {
              "outlinewidth": 0,
              "ticks": ""
             }
            },
            "marker": {
             "colorbar": {
              "outlinewidth": 0,
              "ticks": ""
             }
            },
            "type": "scatter3d"
           }
          ],
          "scattercarpet": [
           {
            "marker": {
             "colorbar": {
              "outlinewidth": 0,
              "ticks": ""
             }
            },
            "type": "scattercarpet"
           }
          ],
          "scattergeo": [
           {
            "marker": {
             "colorbar": {
              "outlinewidth": 0,
              "ticks": ""
             }
            },
            "type": "scattergeo"
           }
          ],
          "scattergl": [
           {
            "marker": {
             "colorbar": {
              "outlinewidth": 0,
              "ticks": ""
             }
            },
            "type": "scattergl"
           }
          ],
          "scattermapbox": [
           {
            "marker": {
             "colorbar": {
              "outlinewidth": 0,
              "ticks": ""
             }
            },
            "type": "scattermapbox"
           }
          ],
          "scatterpolar": [
           {
            "marker": {
             "colorbar": {
              "outlinewidth": 0,
              "ticks": ""
             }
            },
            "type": "scatterpolar"
           }
          ],
          "scatterpolargl": [
           {
            "marker": {
             "colorbar": {
              "outlinewidth": 0,
              "ticks": ""
             }
            },
            "type": "scatterpolargl"
           }
          ],
          "scatterternary": [
           {
            "marker": {
             "colorbar": {
              "outlinewidth": 0,
              "ticks": ""
             }
            },
            "type": "scatterternary"
           }
          ],
          "surface": [
           {
            "colorbar": {
             "outlinewidth": 0,
             "ticks": ""
            },
            "colorscale": [
             [
              0,
              "#0d0887"
             ],
             [
              0.1111111111111111,
              "#46039f"
             ],
             [
              0.2222222222222222,
              "#7201a8"
             ],
             [
              0.3333333333333333,
              "#9c179e"
             ],
             [
              0.4444444444444444,
              "#bd3786"
             ],
             [
              0.5555555555555556,
              "#d8576b"
             ],
             [
              0.6666666666666666,
              "#ed7953"
             ],
             [
              0.7777777777777778,
              "#fb9f3a"
             ],
             [
              0.8888888888888888,
              "#fdca26"
             ],
             [
              1,
              "#f0f921"
             ]
            ],
            "type": "surface"
           }
          ],
          "table": [
           {
            "cells": {
             "fill": {
              "color": "#EBF0F8"
             },
             "line": {
              "color": "white"
             }
            },
            "header": {
             "fill": {
              "color": "#C8D4E3"
             },
             "line": {
              "color": "white"
             }
            },
            "type": "table"
           }
          ]
         },
         "layout": {
          "annotationdefaults": {
           "arrowcolor": "#2a3f5f",
           "arrowhead": 0,
           "arrowwidth": 1
          },
          "autotypenumbers": "strict",
          "coloraxis": {
           "colorbar": {
            "outlinewidth": 0,
            "ticks": ""
           }
          },
          "colorscale": {
           "diverging": [
            [
             0,
             "#8e0152"
            ],
            [
             0.1,
             "#c51b7d"
            ],
            [
             0.2,
             "#de77ae"
            ],
            [
             0.3,
             "#f1b6da"
            ],
            [
             0.4,
             "#fde0ef"
            ],
            [
             0.5,
             "#f7f7f7"
            ],
            [
             0.6,
             "#e6f5d0"
            ],
            [
             0.7,
             "#b8e186"
            ],
            [
             0.8,
             "#7fbc41"
            ],
            [
             0.9,
             "#4d9221"
            ],
            [
             1,
             "#276419"
            ]
           ],
           "sequential": [
            [
             0,
             "#0d0887"
            ],
            [
             0.1111111111111111,
             "#46039f"
            ],
            [
             0.2222222222222222,
             "#7201a8"
            ],
            [
             0.3333333333333333,
             "#9c179e"
            ],
            [
             0.4444444444444444,
             "#bd3786"
            ],
            [
             0.5555555555555556,
             "#d8576b"
            ],
            [
             0.6666666666666666,
             "#ed7953"
            ],
            [
             0.7777777777777778,
             "#fb9f3a"
            ],
            [
             0.8888888888888888,
             "#fdca26"
            ],
            [
             1,
             "#f0f921"
            ]
           ],
           "sequentialminus": [
            [
             0,
             "#0d0887"
            ],
            [
             0.1111111111111111,
             "#46039f"
            ],
            [
             0.2222222222222222,
             "#7201a8"
            ],
            [
             0.3333333333333333,
             "#9c179e"
            ],
            [
             0.4444444444444444,
             "#bd3786"
            ],
            [
             0.5555555555555556,
             "#d8576b"
            ],
            [
             0.6666666666666666,
             "#ed7953"
            ],
            [
             0.7777777777777778,
             "#fb9f3a"
            ],
            [
             0.8888888888888888,
             "#fdca26"
            ],
            [
             1,
             "#f0f921"
            ]
           ]
          },
          "colorway": [
           "#636efa",
           "#EF553B",
           "#00cc96",
           "#ab63fa",
           "#FFA15A",
           "#19d3f3",
           "#FF6692",
           "#B6E880",
           "#FF97FF",
           "#FECB52"
          ],
          "font": {
           "color": "#2a3f5f"
          },
          "geo": {
           "bgcolor": "white",
           "lakecolor": "white",
           "landcolor": "#E5ECF6",
           "showlakes": true,
           "showland": true,
           "subunitcolor": "white"
          },
          "hoverlabel": {
           "align": "left"
          },
          "hovermode": "closest",
          "mapbox": {
           "style": "light"
          },
          "paper_bgcolor": "white",
          "plot_bgcolor": "#E5ECF6",
          "polar": {
           "angularaxis": {
            "gridcolor": "white",
            "linecolor": "white",
            "ticks": ""
           },
           "bgcolor": "#E5ECF6",
           "radialaxis": {
            "gridcolor": "white",
            "linecolor": "white",
            "ticks": ""
           }
          },
          "scene": {
           "xaxis": {
            "backgroundcolor": "#E5ECF6",
            "gridcolor": "white",
            "gridwidth": 2,
            "linecolor": "white",
            "showbackground": true,
            "ticks": "",
            "zerolinecolor": "white"
           },
           "yaxis": {
            "backgroundcolor": "#E5ECF6",
            "gridcolor": "white",
            "gridwidth": 2,
            "linecolor": "white",
            "showbackground": true,
            "ticks": "",
            "zerolinecolor": "white"
           },
           "zaxis": {
            "backgroundcolor": "#E5ECF6",
            "gridcolor": "white",
            "gridwidth": 2,
            "linecolor": "white",
            "showbackground": true,
            "ticks": "",
            "zerolinecolor": "white"
           }
          },
          "shapedefaults": {
           "line": {
            "color": "#2a3f5f"
           }
          },
          "ternary": {
           "aaxis": {
            "gridcolor": "white",
            "linecolor": "white",
            "ticks": ""
           },
           "baxis": {
            "gridcolor": "white",
            "linecolor": "white",
            "ticks": ""
           },
           "bgcolor": "#E5ECF6",
           "caxis": {
            "gridcolor": "white",
            "linecolor": "white",
            "ticks": ""
           }
          },
          "title": {
           "x": 0.05
          },
          "xaxis": {
           "automargin": true,
           "gridcolor": "white",
           "linecolor": "white",
           "ticks": "",
           "title": {
            "standoff": 15
           },
           "zerolinecolor": "white",
           "zerolinewidth": 2
          },
          "yaxis": {
           "automargin": true,
           "gridcolor": "white",
           "linecolor": "white",
           "ticks": "",
           "title": {
            "standoff": 15
           },
           "zerolinecolor": "white",
           "zerolinewidth": 2
          }
         }
        },
        "title": {
         "text": "O15240 updrs_2"
        },
        "xaxis": {
         "anchor": "y",
         "domain": [
          0,
          1
         ],
         "title": {
          "text": "quantile_middle"
         }
        },
        "yaxis": {
         "anchor": "x",
         "domain": [
          0,
          1
         ],
         "title": {
          "text": "updrs_2_shift"
         }
        }
       }
      }
     },
     "metadata": {},
     "output_type": "display_data"
    },
    {
     "data": {
      "application/vnd.plotly.v1+json": {
       "config": {
        "plotlyServerURL": "https://plot.ly"
       },
       "data": [
        {
         "hovertemplate": "quantile_middle=%{x}<br>updrs_3_shift=%{y}<extra></extra>",
         "legendgroup": "",
         "line": {
          "color": "#636efa",
          "dash": "solid"
         },
         "marker": {
          "symbol": "circle"
         },
         "mode": "lines",
         "name": "",
         "orientation": "v",
         "showlegend": false,
         "type": "scatter",
         "x": [
          0.025,
          0.5,
          0.975
         ],
         "xaxis": "x",
         "y": [
          11.585334574122896,
          1.6851803891920746e-11,
          -5.938594166130957
         ],
         "yaxis": "y"
        }
       ],
       "layout": {
        "legend": {
         "tracegroupgap": 0
        },
        "template": {
         "data": {
          "bar": [
           {
            "error_x": {
             "color": "#2a3f5f"
            },
            "error_y": {
             "color": "#2a3f5f"
            },
            "marker": {
             "line": {
              "color": "#E5ECF6",
              "width": 0.5
             },
             "pattern": {
              "fillmode": "overlay",
              "size": 10,
              "solidity": 0.2
             }
            },
            "type": "bar"
           }
          ],
          "barpolar": [
           {
            "marker": {
             "line": {
              "color": "#E5ECF6",
              "width": 0.5
             },
             "pattern": {
              "fillmode": "overlay",
              "size": 10,
              "solidity": 0.2
             }
            },
            "type": "barpolar"
           }
          ],
          "carpet": [
           {
            "aaxis": {
             "endlinecolor": "#2a3f5f",
             "gridcolor": "white",
             "linecolor": "white",
             "minorgridcolor": "white",
             "startlinecolor": "#2a3f5f"
            },
            "baxis": {
             "endlinecolor": "#2a3f5f",
             "gridcolor": "white",
             "linecolor": "white",
             "minorgridcolor": "white",
             "startlinecolor": "#2a3f5f"
            },
            "type": "carpet"
           }
          ],
          "choropleth": [
           {
            "colorbar": {
             "outlinewidth": 0,
             "ticks": ""
            },
            "type": "choropleth"
           }
          ],
          "contour": [
           {
            "colorbar": {
             "outlinewidth": 0,
             "ticks": ""
            },
            "colorscale": [
             [
              0,
              "#0d0887"
             ],
             [
              0.1111111111111111,
              "#46039f"
             ],
             [
              0.2222222222222222,
              "#7201a8"
             ],
             [
              0.3333333333333333,
              "#9c179e"
             ],
             [
              0.4444444444444444,
              "#bd3786"
             ],
             [
              0.5555555555555556,
              "#d8576b"
             ],
             [
              0.6666666666666666,
              "#ed7953"
             ],
             [
              0.7777777777777778,
              "#fb9f3a"
             ],
             [
              0.8888888888888888,
              "#fdca26"
             ],
             [
              1,
              "#f0f921"
             ]
            ],
            "type": "contour"
           }
          ],
          "contourcarpet": [
           {
            "colorbar": {
             "outlinewidth": 0,
             "ticks": ""
            },
            "type": "contourcarpet"
           }
          ],
          "heatmap": [
           {
            "colorbar": {
             "outlinewidth": 0,
             "ticks": ""
            },
            "colorscale": [
             [
              0,
              "#0d0887"
             ],
             [
              0.1111111111111111,
              "#46039f"
             ],
             [
              0.2222222222222222,
              "#7201a8"
             ],
             [
              0.3333333333333333,
              "#9c179e"
             ],
             [
              0.4444444444444444,
              "#bd3786"
             ],
             [
              0.5555555555555556,
              "#d8576b"
             ],
             [
              0.6666666666666666,
              "#ed7953"
             ],
             [
              0.7777777777777778,
              "#fb9f3a"
             ],
             [
              0.8888888888888888,
              "#fdca26"
             ],
             [
              1,
              "#f0f921"
             ]
            ],
            "type": "heatmap"
           }
          ],
          "heatmapgl": [
           {
            "colorbar": {
             "outlinewidth": 0,
             "ticks": ""
            },
            "colorscale": [
             [
              0,
              "#0d0887"
             ],
             [
              0.1111111111111111,
              "#46039f"
             ],
             [
              0.2222222222222222,
              "#7201a8"
             ],
             [
              0.3333333333333333,
              "#9c179e"
             ],
             [
              0.4444444444444444,
              "#bd3786"
             ],
             [
              0.5555555555555556,
              "#d8576b"
             ],
             [
              0.6666666666666666,
              "#ed7953"
             ],
             [
              0.7777777777777778,
              "#fb9f3a"
             ],
             [
              0.8888888888888888,
              "#fdca26"
             ],
             [
              1,
              "#f0f921"
             ]
            ],
            "type": "heatmapgl"
           }
          ],
          "histogram": [
           {
            "marker": {
             "pattern": {
              "fillmode": "overlay",
              "size": 10,
              "solidity": 0.2
             }
            },
            "type": "histogram"
           }
          ],
          "histogram2d": [
           {
            "colorbar": {
             "outlinewidth": 0,
             "ticks": ""
            },
            "colorscale": [
             [
              0,
              "#0d0887"
             ],
             [
              0.1111111111111111,
              "#46039f"
             ],
             [
              0.2222222222222222,
              "#7201a8"
             ],
             [
              0.3333333333333333,
              "#9c179e"
             ],
             [
              0.4444444444444444,
              "#bd3786"
             ],
             [
              0.5555555555555556,
              "#d8576b"
             ],
             [
              0.6666666666666666,
              "#ed7953"
             ],
             [
              0.7777777777777778,
              "#fb9f3a"
             ],
             [
              0.8888888888888888,
              "#fdca26"
             ],
             [
              1,
              "#f0f921"
             ]
            ],
            "type": "histogram2d"
           }
          ],
          "histogram2dcontour": [
           {
            "colorbar": {
             "outlinewidth": 0,
             "ticks": ""
            },
            "colorscale": [
             [
              0,
              "#0d0887"
             ],
             [
              0.1111111111111111,
              "#46039f"
             ],
             [
              0.2222222222222222,
              "#7201a8"
             ],
             [
              0.3333333333333333,
              "#9c179e"
             ],
             [
              0.4444444444444444,
              "#bd3786"
             ],
             [
              0.5555555555555556,
              "#d8576b"
             ],
             [
              0.6666666666666666,
              "#ed7953"
             ],
             [
              0.7777777777777778,
              "#fb9f3a"
             ],
             [
              0.8888888888888888,
              "#fdca26"
             ],
             [
              1,
              "#f0f921"
             ]
            ],
            "type": "histogram2dcontour"
           }
          ],
          "mesh3d": [
           {
            "colorbar": {
             "outlinewidth": 0,
             "ticks": ""
            },
            "type": "mesh3d"
           }
          ],
          "parcoords": [
           {
            "line": {
             "colorbar": {
              "outlinewidth": 0,
              "ticks": ""
             }
            },
            "type": "parcoords"
           }
          ],
          "pie": [
           {
            "automargin": true,
            "type": "pie"
           }
          ],
          "scatter": [
           {
            "fillpattern": {
             "fillmode": "overlay",
             "size": 10,
             "solidity": 0.2
            },
            "type": "scatter"
           }
          ],
          "scatter3d": [
           {
            "line": {
             "colorbar": {
              "outlinewidth": 0,
              "ticks": ""
             }
            },
            "marker": {
             "colorbar": {
              "outlinewidth": 0,
              "ticks": ""
             }
            },
            "type": "scatter3d"
           }
          ],
          "scattercarpet": [
           {
            "marker": {
             "colorbar": {
              "outlinewidth": 0,
              "ticks": ""
             }
            },
            "type": "scattercarpet"
           }
          ],
          "scattergeo": [
           {
            "marker": {
             "colorbar": {
              "outlinewidth": 0,
              "ticks": ""
             }
            },
            "type": "scattergeo"
           }
          ],
          "scattergl": [
           {
            "marker": {
             "colorbar": {
              "outlinewidth": 0,
              "ticks": ""
             }
            },
            "type": "scattergl"
           }
          ],
          "scattermapbox": [
           {
            "marker": {
             "colorbar": {
              "outlinewidth": 0,
              "ticks": ""
             }
            },
            "type": "scattermapbox"
           }
          ],
          "scatterpolar": [
           {
            "marker": {
             "colorbar": {
              "outlinewidth": 0,
              "ticks": ""
             }
            },
            "type": "scatterpolar"
           }
          ],
          "scatterpolargl": [
           {
            "marker": {
             "colorbar": {
              "outlinewidth": 0,
              "ticks": ""
             }
            },
            "type": "scatterpolargl"
           }
          ],
          "scatterternary": [
           {
            "marker": {
             "colorbar": {
              "outlinewidth": 0,
              "ticks": ""
             }
            },
            "type": "scatterternary"
           }
          ],
          "surface": [
           {
            "colorbar": {
             "outlinewidth": 0,
             "ticks": ""
            },
            "colorscale": [
             [
              0,
              "#0d0887"
             ],
             [
              0.1111111111111111,
              "#46039f"
             ],
             [
              0.2222222222222222,
              "#7201a8"
             ],
             [
              0.3333333333333333,
              "#9c179e"
             ],
             [
              0.4444444444444444,
              "#bd3786"
             ],
             [
              0.5555555555555556,
              "#d8576b"
             ],
             [
              0.6666666666666666,
              "#ed7953"
             ],
             [
              0.7777777777777778,
              "#fb9f3a"
             ],
             [
              0.8888888888888888,
              "#fdca26"
             ],
             [
              1,
              "#f0f921"
             ]
            ],
            "type": "surface"
           }
          ],
          "table": [
           {
            "cells": {
             "fill": {
              "color": "#EBF0F8"
             },
             "line": {
              "color": "white"
             }
            },
            "header": {
             "fill": {
              "color": "#C8D4E3"
             },
             "line": {
              "color": "white"
             }
            },
            "type": "table"
           }
          ]
         },
         "layout": {
          "annotationdefaults": {
           "arrowcolor": "#2a3f5f",
           "arrowhead": 0,
           "arrowwidth": 1
          },
          "autotypenumbers": "strict",
          "coloraxis": {
           "colorbar": {
            "outlinewidth": 0,
            "ticks": ""
           }
          },
          "colorscale": {
           "diverging": [
            [
             0,
             "#8e0152"
            ],
            [
             0.1,
             "#c51b7d"
            ],
            [
             0.2,
             "#de77ae"
            ],
            [
             0.3,
             "#f1b6da"
            ],
            [
             0.4,
             "#fde0ef"
            ],
            [
             0.5,
             "#f7f7f7"
            ],
            [
             0.6,
             "#e6f5d0"
            ],
            [
             0.7,
             "#b8e186"
            ],
            [
             0.8,
             "#7fbc41"
            ],
            [
             0.9,
             "#4d9221"
            ],
            [
             1,
             "#276419"
            ]
           ],
           "sequential": [
            [
             0,
             "#0d0887"
            ],
            [
             0.1111111111111111,
             "#46039f"
            ],
            [
             0.2222222222222222,
             "#7201a8"
            ],
            [
             0.3333333333333333,
             "#9c179e"
            ],
            [
             0.4444444444444444,
             "#bd3786"
            ],
            [
             0.5555555555555556,
             "#d8576b"
            ],
            [
             0.6666666666666666,
             "#ed7953"
            ],
            [
             0.7777777777777778,
             "#fb9f3a"
            ],
            [
             0.8888888888888888,
             "#fdca26"
            ],
            [
             1,
             "#f0f921"
            ]
           ],
           "sequentialminus": [
            [
             0,
             "#0d0887"
            ],
            [
             0.1111111111111111,
             "#46039f"
            ],
            [
             0.2222222222222222,
             "#7201a8"
            ],
            [
             0.3333333333333333,
             "#9c179e"
            ],
            [
             0.4444444444444444,
             "#bd3786"
            ],
            [
             0.5555555555555556,
             "#d8576b"
            ],
            [
             0.6666666666666666,
             "#ed7953"
            ],
            [
             0.7777777777777778,
             "#fb9f3a"
            ],
            [
             0.8888888888888888,
             "#fdca26"
            ],
            [
             1,
             "#f0f921"
            ]
           ]
          },
          "colorway": [
           "#636efa",
           "#EF553B",
           "#00cc96",
           "#ab63fa",
           "#FFA15A",
           "#19d3f3",
           "#FF6692",
           "#B6E880",
           "#FF97FF",
           "#FECB52"
          ],
          "font": {
           "color": "#2a3f5f"
          },
          "geo": {
           "bgcolor": "white",
           "lakecolor": "white",
           "landcolor": "#E5ECF6",
           "showlakes": true,
           "showland": true,
           "subunitcolor": "white"
          },
          "hoverlabel": {
           "align": "left"
          },
          "hovermode": "closest",
          "mapbox": {
           "style": "light"
          },
          "paper_bgcolor": "white",
          "plot_bgcolor": "#E5ECF6",
          "polar": {
           "angularaxis": {
            "gridcolor": "white",
            "linecolor": "white",
            "ticks": ""
           },
           "bgcolor": "#E5ECF6",
           "radialaxis": {
            "gridcolor": "white",
            "linecolor": "white",
            "ticks": ""
           }
          },
          "scene": {
           "xaxis": {
            "backgroundcolor": "#E5ECF6",
            "gridcolor": "white",
            "gridwidth": 2,
            "linecolor": "white",
            "showbackground": true,
            "ticks": "",
            "zerolinecolor": "white"
           },
           "yaxis": {
            "backgroundcolor": "#E5ECF6",
            "gridcolor": "white",
            "gridwidth": 2,
            "linecolor": "white",
            "showbackground": true,
            "ticks": "",
            "zerolinecolor": "white"
           },
           "zaxis": {
            "backgroundcolor": "#E5ECF6",
            "gridcolor": "white",
            "gridwidth": 2,
            "linecolor": "white",
            "showbackground": true,
            "ticks": "",
            "zerolinecolor": "white"
           }
          },
          "shapedefaults": {
           "line": {
            "color": "#2a3f5f"
           }
          },
          "ternary": {
           "aaxis": {
            "gridcolor": "white",
            "linecolor": "white",
            "ticks": ""
           },
           "baxis": {
            "gridcolor": "white",
            "linecolor": "white",
            "ticks": ""
           },
           "bgcolor": "#E5ECF6",
           "caxis": {
            "gridcolor": "white",
            "linecolor": "white",
            "ticks": ""
           }
          },
          "title": {
           "x": 0.05
          },
          "xaxis": {
           "automargin": true,
           "gridcolor": "white",
           "linecolor": "white",
           "ticks": "",
           "title": {
            "standoff": 15
           },
           "zerolinecolor": "white",
           "zerolinewidth": 2
          },
          "yaxis": {
           "automargin": true,
           "gridcolor": "white",
           "linecolor": "white",
           "ticks": "",
           "title": {
            "standoff": 15
           },
           "zerolinecolor": "white",
           "zerolinewidth": 2
          }
         }
        },
        "title": {
         "text": "O15240 updrs_3"
        },
        "xaxis": {
         "anchor": "y",
         "domain": [
          0,
          1
         ],
         "title": {
          "text": "quantile_middle"
         }
        },
        "yaxis": {
         "anchor": "x",
         "domain": [
          0,
          1
         ],
         "title": {
          "text": "updrs_3_shift"
         }
        }
       }
      }
     },
     "metadata": {},
     "output_type": "display_data"
    },
    {
     "data": {
      "application/vnd.plotly.v1+json": {
       "config": {
        "plotlyServerURL": "https://plot.ly"
       },
       "data": [
        {
         "hovertemplate": "quantile_middle=%{x}<br>updrs_4_shift=%{y}<extra></extra>",
         "legendgroup": "",
         "line": {
          "color": "#636efa",
          "dash": "solid"
         },
         "marker": {
          "symbol": "circle"
         },
         "mode": "lines",
         "name": "",
         "orientation": "v",
         "showlegend": false,
         "type": "scatter",
         "x": [
          0.025,
          0.5,
          0.975
         ],
         "xaxis": "x",
         "y": [
          1.776594685014621e-11,
          1.776594685014621e-11,
          1.776594685014621e-11
         ],
         "yaxis": "y"
        }
       ],
       "layout": {
        "legend": {
         "tracegroupgap": 0
        },
        "template": {
         "data": {
          "bar": [
           {
            "error_x": {
             "color": "#2a3f5f"
            },
            "error_y": {
             "color": "#2a3f5f"
            },
            "marker": {
             "line": {
              "color": "#E5ECF6",
              "width": 0.5
             },
             "pattern": {
              "fillmode": "overlay",
              "size": 10,
              "solidity": 0.2
             }
            },
            "type": "bar"
           }
          ],
          "barpolar": [
           {
            "marker": {
             "line": {
              "color": "#E5ECF6",
              "width": 0.5
             },
             "pattern": {
              "fillmode": "overlay",
              "size": 10,
              "solidity": 0.2
             }
            },
            "type": "barpolar"
           }
          ],
          "carpet": [
           {
            "aaxis": {
             "endlinecolor": "#2a3f5f",
             "gridcolor": "white",
             "linecolor": "white",
             "minorgridcolor": "white",
             "startlinecolor": "#2a3f5f"
            },
            "baxis": {
             "endlinecolor": "#2a3f5f",
             "gridcolor": "white",
             "linecolor": "white",
             "minorgridcolor": "white",
             "startlinecolor": "#2a3f5f"
            },
            "type": "carpet"
           }
          ],
          "choropleth": [
           {
            "colorbar": {
             "outlinewidth": 0,
             "ticks": ""
            },
            "type": "choropleth"
           }
          ],
          "contour": [
           {
            "colorbar": {
             "outlinewidth": 0,
             "ticks": ""
            },
            "colorscale": [
             [
              0,
              "#0d0887"
             ],
             [
              0.1111111111111111,
              "#46039f"
             ],
             [
              0.2222222222222222,
              "#7201a8"
             ],
             [
              0.3333333333333333,
              "#9c179e"
             ],
             [
              0.4444444444444444,
              "#bd3786"
             ],
             [
              0.5555555555555556,
              "#d8576b"
             ],
             [
              0.6666666666666666,
              "#ed7953"
             ],
             [
              0.7777777777777778,
              "#fb9f3a"
             ],
             [
              0.8888888888888888,
              "#fdca26"
             ],
             [
              1,
              "#f0f921"
             ]
            ],
            "type": "contour"
           }
          ],
          "contourcarpet": [
           {
            "colorbar": {
             "outlinewidth": 0,
             "ticks": ""
            },
            "type": "contourcarpet"
           }
          ],
          "heatmap": [
           {
            "colorbar": {
             "outlinewidth": 0,
             "ticks": ""
            },
            "colorscale": [
             [
              0,
              "#0d0887"
             ],
             [
              0.1111111111111111,
              "#46039f"
             ],
             [
              0.2222222222222222,
              "#7201a8"
             ],
             [
              0.3333333333333333,
              "#9c179e"
             ],
             [
              0.4444444444444444,
              "#bd3786"
             ],
             [
              0.5555555555555556,
              "#d8576b"
             ],
             [
              0.6666666666666666,
              "#ed7953"
             ],
             [
              0.7777777777777778,
              "#fb9f3a"
             ],
             [
              0.8888888888888888,
              "#fdca26"
             ],
             [
              1,
              "#f0f921"
             ]
            ],
            "type": "heatmap"
           }
          ],
          "heatmapgl": [
           {
            "colorbar": {
             "outlinewidth": 0,
             "ticks": ""
            },
            "colorscale": [
             [
              0,
              "#0d0887"
             ],
             [
              0.1111111111111111,
              "#46039f"
             ],
             [
              0.2222222222222222,
              "#7201a8"
             ],
             [
              0.3333333333333333,
              "#9c179e"
             ],
             [
              0.4444444444444444,
              "#bd3786"
             ],
             [
              0.5555555555555556,
              "#d8576b"
             ],
             [
              0.6666666666666666,
              "#ed7953"
             ],
             [
              0.7777777777777778,
              "#fb9f3a"
             ],
             [
              0.8888888888888888,
              "#fdca26"
             ],
             [
              1,
              "#f0f921"
             ]
            ],
            "type": "heatmapgl"
           }
          ],
          "histogram": [
           {
            "marker": {
             "pattern": {
              "fillmode": "overlay",
              "size": 10,
              "solidity": 0.2
             }
            },
            "type": "histogram"
           }
          ],
          "histogram2d": [
           {
            "colorbar": {
             "outlinewidth": 0,
             "ticks": ""
            },
            "colorscale": [
             [
              0,
              "#0d0887"
             ],
             [
              0.1111111111111111,
              "#46039f"
             ],
             [
              0.2222222222222222,
              "#7201a8"
             ],
             [
              0.3333333333333333,
              "#9c179e"
             ],
             [
              0.4444444444444444,
              "#bd3786"
             ],
             [
              0.5555555555555556,
              "#d8576b"
             ],
             [
              0.6666666666666666,
              "#ed7953"
             ],
             [
              0.7777777777777778,
              "#fb9f3a"
             ],
             [
              0.8888888888888888,
              "#fdca26"
             ],
             [
              1,
              "#f0f921"
             ]
            ],
            "type": "histogram2d"
           }
          ],
          "histogram2dcontour": [
           {
            "colorbar": {
             "outlinewidth": 0,
             "ticks": ""
            },
            "colorscale": [
             [
              0,
              "#0d0887"
             ],
             [
              0.1111111111111111,
              "#46039f"
             ],
             [
              0.2222222222222222,
              "#7201a8"
             ],
             [
              0.3333333333333333,
              "#9c179e"
             ],
             [
              0.4444444444444444,
              "#bd3786"
             ],
             [
              0.5555555555555556,
              "#d8576b"
             ],
             [
              0.6666666666666666,
              "#ed7953"
             ],
             [
              0.7777777777777778,
              "#fb9f3a"
             ],
             [
              0.8888888888888888,
              "#fdca26"
             ],
             [
              1,
              "#f0f921"
             ]
            ],
            "type": "histogram2dcontour"
           }
          ],
          "mesh3d": [
           {
            "colorbar": {
             "outlinewidth": 0,
             "ticks": ""
            },
            "type": "mesh3d"
           }
          ],
          "parcoords": [
           {
            "line": {
             "colorbar": {
              "outlinewidth": 0,
              "ticks": ""
             }
            },
            "type": "parcoords"
           }
          ],
          "pie": [
           {
            "automargin": true,
            "type": "pie"
           }
          ],
          "scatter": [
           {
            "fillpattern": {
             "fillmode": "overlay",
             "size": 10,
             "solidity": 0.2
            },
            "type": "scatter"
           }
          ],
          "scatter3d": [
           {
            "line": {
             "colorbar": {
              "outlinewidth": 0,
              "ticks": ""
             }
            },
            "marker": {
             "colorbar": {
              "outlinewidth": 0,
              "ticks": ""
             }
            },
            "type": "scatter3d"
           }
          ],
          "scattercarpet": [
           {
            "marker": {
             "colorbar": {
              "outlinewidth": 0,
              "ticks": ""
             }
            },
            "type": "scattercarpet"
           }
          ],
          "scattergeo": [
           {
            "marker": {
             "colorbar": {
              "outlinewidth": 0,
              "ticks": ""
             }
            },
            "type": "scattergeo"
           }
          ],
          "scattergl": [
           {
            "marker": {
             "colorbar": {
              "outlinewidth": 0,
              "ticks": ""
             }
            },
            "type": "scattergl"
           }
          ],
          "scattermapbox": [
           {
            "marker": {
             "colorbar": {
              "outlinewidth": 0,
              "ticks": ""
             }
            },
            "type": "scattermapbox"
           }
          ],
          "scatterpolar": [
           {
            "marker": {
             "colorbar": {
              "outlinewidth": 0,
              "ticks": ""
             }
            },
            "type": "scatterpolar"
           }
          ],
          "scatterpolargl": [
           {
            "marker": {
             "colorbar": {
              "outlinewidth": 0,
              "ticks": ""
             }
            },
            "type": "scatterpolargl"
           }
          ],
          "scatterternary": [
           {
            "marker": {
             "colorbar": {
              "outlinewidth": 0,
              "ticks": ""
             }
            },
            "type": "scatterternary"
           }
          ],
          "surface": [
           {
            "colorbar": {
             "outlinewidth": 0,
             "ticks": ""
            },
            "colorscale": [
             [
              0,
              "#0d0887"
             ],
             [
              0.1111111111111111,
              "#46039f"
             ],
             [
              0.2222222222222222,
              "#7201a8"
             ],
             [
              0.3333333333333333,
              "#9c179e"
             ],
             [
              0.4444444444444444,
              "#bd3786"
             ],
             [
              0.5555555555555556,
              "#d8576b"
             ],
             [
              0.6666666666666666,
              "#ed7953"
             ],
             [
              0.7777777777777778,
              "#fb9f3a"
             ],
             [
              0.8888888888888888,
              "#fdca26"
             ],
             [
              1,
              "#f0f921"
             ]
            ],
            "type": "surface"
           }
          ],
          "table": [
           {
            "cells": {
             "fill": {
              "color": "#EBF0F8"
             },
             "line": {
              "color": "white"
             }
            },
            "header": {
             "fill": {
              "color": "#C8D4E3"
             },
             "line": {
              "color": "white"
             }
            },
            "type": "table"
           }
          ]
         },
         "layout": {
          "annotationdefaults": {
           "arrowcolor": "#2a3f5f",
           "arrowhead": 0,
           "arrowwidth": 1
          },
          "autotypenumbers": "strict",
          "coloraxis": {
           "colorbar": {
            "outlinewidth": 0,
            "ticks": ""
           }
          },
          "colorscale": {
           "diverging": [
            [
             0,
             "#8e0152"
            ],
            [
             0.1,
             "#c51b7d"
            ],
            [
             0.2,
             "#de77ae"
            ],
            [
             0.3,
             "#f1b6da"
            ],
            [
             0.4,
             "#fde0ef"
            ],
            [
             0.5,
             "#f7f7f7"
            ],
            [
             0.6,
             "#e6f5d0"
            ],
            [
             0.7,
             "#b8e186"
            ],
            [
             0.8,
             "#7fbc41"
            ],
            [
             0.9,
             "#4d9221"
            ],
            [
             1,
             "#276419"
            ]
           ],
           "sequential": [
            [
             0,
             "#0d0887"
            ],
            [
             0.1111111111111111,
             "#46039f"
            ],
            [
             0.2222222222222222,
             "#7201a8"
            ],
            [
             0.3333333333333333,
             "#9c179e"
            ],
            [
             0.4444444444444444,
             "#bd3786"
            ],
            [
             0.5555555555555556,
             "#d8576b"
            ],
            [
             0.6666666666666666,
             "#ed7953"
            ],
            [
             0.7777777777777778,
             "#fb9f3a"
            ],
            [
             0.8888888888888888,
             "#fdca26"
            ],
            [
             1,
             "#f0f921"
            ]
           ],
           "sequentialminus": [
            [
             0,
             "#0d0887"
            ],
            [
             0.1111111111111111,
             "#46039f"
            ],
            [
             0.2222222222222222,
             "#7201a8"
            ],
            [
             0.3333333333333333,
             "#9c179e"
            ],
            [
             0.4444444444444444,
             "#bd3786"
            ],
            [
             0.5555555555555556,
             "#d8576b"
            ],
            [
             0.6666666666666666,
             "#ed7953"
            ],
            [
             0.7777777777777778,
             "#fb9f3a"
            ],
            [
             0.8888888888888888,
             "#fdca26"
            ],
            [
             1,
             "#f0f921"
            ]
           ]
          },
          "colorway": [
           "#636efa",
           "#EF553B",
           "#00cc96",
           "#ab63fa",
           "#FFA15A",
           "#19d3f3",
           "#FF6692",
           "#B6E880",
           "#FF97FF",
           "#FECB52"
          ],
          "font": {
           "color": "#2a3f5f"
          },
          "geo": {
           "bgcolor": "white",
           "lakecolor": "white",
           "landcolor": "#E5ECF6",
           "showlakes": true,
           "showland": true,
           "subunitcolor": "white"
          },
          "hoverlabel": {
           "align": "left"
          },
          "hovermode": "closest",
          "mapbox": {
           "style": "light"
          },
          "paper_bgcolor": "white",
          "plot_bgcolor": "#E5ECF6",
          "polar": {
           "angularaxis": {
            "gridcolor": "white",
            "linecolor": "white",
            "ticks": ""
           },
           "bgcolor": "#E5ECF6",
           "radialaxis": {
            "gridcolor": "white",
            "linecolor": "white",
            "ticks": ""
           }
          },
          "scene": {
           "xaxis": {
            "backgroundcolor": "#E5ECF6",
            "gridcolor": "white",
            "gridwidth": 2,
            "linecolor": "white",
            "showbackground": true,
            "ticks": "",
            "zerolinecolor": "white"
           },
           "yaxis": {
            "backgroundcolor": "#E5ECF6",
            "gridcolor": "white",
            "gridwidth": 2,
            "linecolor": "white",
            "showbackground": true,
            "ticks": "",
            "zerolinecolor": "white"
           },
           "zaxis": {
            "backgroundcolor": "#E5ECF6",
            "gridcolor": "white",
            "gridwidth": 2,
            "linecolor": "white",
            "showbackground": true,
            "ticks": "",
            "zerolinecolor": "white"
           }
          },
          "shapedefaults": {
           "line": {
            "color": "#2a3f5f"
           }
          },
          "ternary": {
           "aaxis": {
            "gridcolor": "white",
            "linecolor": "white",
            "ticks": ""
           },
           "baxis": {
            "gridcolor": "white",
            "linecolor": "white",
            "ticks": ""
           },
           "bgcolor": "#E5ECF6",
           "caxis": {
            "gridcolor": "white",
            "linecolor": "white",
            "ticks": ""
           }
          },
          "title": {
           "x": 0.05
          },
          "xaxis": {
           "automargin": true,
           "gridcolor": "white",
           "linecolor": "white",
           "ticks": "",
           "title": {
            "standoff": 15
           },
           "zerolinecolor": "white",
           "zerolinewidth": 2
          },
          "yaxis": {
           "automargin": true,
           "gridcolor": "white",
           "linecolor": "white",
           "ticks": "",
           "title": {
            "standoff": 15
           },
           "zerolinecolor": "white",
           "zerolinewidth": 2
          }
         }
        },
        "title": {
         "text": "O15240 updrs_4"
        },
        "xaxis": {
         "anchor": "y",
         "domain": [
          0,
          1
         ],
         "title": {
          "text": "quantile_middle"
         }
        },
        "yaxis": {
         "anchor": "x",
         "domain": [
          0,
          1
         ],
         "title": {
          "text": "updrs_4_shift"
         }
        }
       }
      }
     },
     "metadata": {},
     "output_type": "display_data"
    }
   ],
   "source": [
    "for target in ['updrs_1', 'updrs_2', 'updrs_3', 'updrs_4']:\n",
    "    fig = px.line(\n",
    "        df_plot,\n",
    "        y=f'{target}_shift',\n",
    "        x='quantile_middle',\n",
    "        title=feature + ' ' + target\n",
    "    )\n",
    "    fig.show()"
   ]
  },
  {
   "attachments": {},
   "cell_type": "markdown",
   "metadata": {},
   "source": [
    "## Find shifts"
   ]
  },
  {
   "cell_type": "code",
   "execution_count": 11,
   "metadata": {},
   "outputs": [],
   "source": [
    "npx_groups = [\n",
    "    {'quantile_low': 0.0, 'quantile_high': 0.05},\n",
    "    {'quantile_low': 0.05, 'quantile_high': 0.95},\n",
    "    {'quantile_low': 0.95, 'quantile_high': 1.0},\n",
    "]\n",
    "target_to_npx_groups_shift = defaultdict(list)\n",
    "\n",
    "for target in ['updrs_1', 'updrs_2', 'updrs_3']:\n",
    "    for npx_group in npx_groups:\n",
    "        item = npx_group.copy()\n",
    "        item['feature'] = feature\n",
    "        \n",
    "        if item['quantile_low'] == 0:\n",
    "            item['quantile_low_value'] = -np.inf\n",
    "        else:\n",
    "            item['quantile_low_value'] = train_clinical_all[feature].quantile(item['quantile_low'])\n",
    "            \n",
    "        if item['quantile_high'] == 1:\n",
    "            item['quantile_high_value'] = np.inf\n",
    "        else: \n",
    "            item['quantile_high_value'] = train_clinical_all[feature].quantile(item['quantile_high'])\n",
    "\n",
    "        train_clinical_all_filtered = train_clinical_all[\n",
    "            (train_clinical_all[feature] >= item['quantile_low_value'])\n",
    "            & (train_clinical_all[feature] < item['quantile_high_value'])\n",
    "        ]\n",
    "        \n",
    "        item['shift'] = find_best_const(train_clinical_all_filtered, target)\n",
    "        target_to_npx_groups_shift[target].append(item)"
   ]
  },
  {
   "cell_type": "code",
   "execution_count": 12,
   "metadata": {},
   "outputs": [
    {
     "data": {
      "text/plain": [
       "defaultdict(list,\n",
       "            {'updrs_1': [{'quantile_low': 0.0,\n",
       "               'quantile_high': 0.05,\n",
       "               'feature': 'O15240',\n",
       "               'quantile_low_value': -inf,\n",
       "               'quantile_high_value': 31902.0,\n",
       "               'shift': 2.8840777634444907},\n",
       "              {'quantile_low': 0.05,\n",
       "               'quantile_high': 0.95,\n",
       "               'feature': 'O15240',\n",
       "               'quantile_low_value': 31902.0,\n",
       "               'quantile_high_value': 262189.50000000006,\n",
       "               'shift': 0.3895616546928739},\n",
       "              {'quantile_low': 0.95,\n",
       "               'quantile_high': 1.0,\n",
       "               'feature': 'O15240',\n",
       "               'quantile_low_value': 262189.50000000006,\n",
       "               'quantile_high_value': inf,\n",
       "               'shift': -1.0263282508723692}],\n",
       "             'updrs_2': [{'quantile_low': 0.0,\n",
       "               'quantile_high': 0.05,\n",
       "               'feature': 'O15240',\n",
       "               'quantile_low_value': -inf,\n",
       "               'quantile_high_value': 31902.0,\n",
       "               'shift': 4.215438267726712},\n",
       "              {'quantile_low': 0.05,\n",
       "               'quantile_high': 0.95,\n",
       "               'feature': 'O15240',\n",
       "               'quantile_low_value': 31902.0,\n",
       "               'quantile_high_value': 262189.50000000006,\n",
       "               'shift': 1.4064511679714293e-11},\n",
       "              {'quantile_low': 0.95,\n",
       "               'quantile_high': 1.0,\n",
       "               'feature': 'O15240',\n",
       "               'quantile_low_value': 262189.50000000006,\n",
       "               'quantile_high_value': inf,\n",
       "               'shift': -1.1431113490848273}],\n",
       "             'updrs_3': [{'quantile_low': 0.0,\n",
       "               'quantile_high': 0.05,\n",
       "               'feature': 'O15240',\n",
       "               'quantile_low_value': -inf,\n",
       "               'quantile_high_value': 31902.0,\n",
       "               'shift': 11.585334574122896},\n",
       "              {'quantile_low': 0.05,\n",
       "               'quantile_high': 0.95,\n",
       "               'feature': 'O15240',\n",
       "               'quantile_low_value': 31902.0,\n",
       "               'quantile_high_value': 262189.50000000006,\n",
       "               'shift': 1.6851803891920746e-11},\n",
       "              {'quantile_low': 0.95,\n",
       "               'quantile_high': 1.0,\n",
       "               'feature': 'O15240',\n",
       "               'quantile_low_value': 262189.50000000006,\n",
       "               'quantile_high_value': inf,\n",
       "               'shift': -5.938594166130957}]})"
      ]
     },
     "execution_count": 12,
     "metadata": {},
     "output_type": "execute_result"
    }
   ],
   "source": [
    "target_to_npx_groups_shift"
   ]
  },
  {
   "attachments": {},
   "cell_type": "markdown",
   "metadata": {},
   "source": [
    "## Predictions"
   ]
  },
  {
   "cell_type": "code",
   "execution_count": null,
   "metadata": {},
   "outputs": [],
   "source": [
    "amp_pd_peptide.make_env.func_dict['__called__'] = False\n",
    "env = amp_pd_peptide.make_env()   # initialize the environment\n",
    "iter_test = env.iter_test()    # an iterator which loops over the test files\n",
    "\n",
    "proteins_features_all = pd.DataFrame()\n",
    "# The API will deliver four dataframes in this specific order:\n",
    "for test_clinical_data, test_peptides, test_proteins, sample_submission in iter_test:\n",
    "    sample_submission['patient_id'] = sample_submission['prediction_id'].map(lambda x: int(x.split('_')[0]))\n",
    "    sample_submission['visit_month'] = sample_submission['prediction_id'].map(lambda x: int(x.split('_')[1]))\n",
    "    sample_submission['target_name'] = sample_submission['prediction_id'].map(lambda x: 'updrs_' + x.split('_')[3])\n",
    "    sample_submission['plus_month'] = sample_submission['prediction_id'].map(lambda x: int(x.split('_')[5]))\n",
    "    sample_submission['pred_month'] = sample_submission['visit_month'] + sample_submission['plus_month']\n",
    "    sample_submission['visit_id'] = sample_submission['patient_id'].astype(str) + '_' + sample_submission['visit_month'].astype(str)\n",
    "    \n",
    "    proteins_features = pd.pivot_table(test_proteins, values='NPX', index='visit_id', columns='UniProt', aggfunc='sum')\n",
    "    proteins_features['visit_id'] = proteins_features.index\n",
    "    proteins_features_all = pd.concat([proteins_features_all, proteins_features])\n",
    "    proteins_features_all['patient_id'] = proteins_features_all.index.map(lambda x: int(x.split('_')[0]))\n",
    "    proteins_features_all[proteins_features.columns] = proteins_features_all.groupby('patient_id')[proteins_features.columns].\\\n",
    "                                                                                                   fillna(method='ffill')\n",
    "    proteins_features = proteins_features_all.groupby('patient_id', as_index=False).last()\n",
    "    \n",
    "    sample_submission = sample_submission.merge(\n",
    "        proteins_features,\n",
    "        on='patient_id',\n",
    "        how='left'\n",
    "    )\n",
    "\n",
    "    for i in range(1, 5):\n",
    "        target = f'updrs_{i}'\n",
    "        mask_target = sample_submission['target_name'] == target\n",
    "        sample_submission.loc[mask_target, 'rating'] = calculate_month_trend_predicitons(\n",
    "            pred_month=sample_submission.loc[mask_target, 'pred_month'],\n",
    "            trend=target_to_trend[target]\n",
    "        )\n",
    "        \n",
    "        for item in target_to_npx_groups_shift[target]:\n",
    "            feature = item['feature']\n",
    "            mask_feature_range = mask_target & (\n",
    "                (sample_submission[feature] >= item['quantile_low_value'])\n",
    "                & (sample_submission[feature] < item['quantile_high_value'])\n",
    "            )\n",
    "            sample_submission.loc[mask_feature_range, 'rating'] += item['shift']\n",
    "\n",
    "        sample_submission.loc[mask_target, 'rating'] = np.round(sample_submission.loc[mask_target, 'rating'])\n",
    "        \n",
    "    # call the env.predict for every iteration\n",
    "    env.predict(sample_submission[['prediction_id', 'rating']])"
   ]
  }
 ],
 "metadata": {
  "kernelspec": {
   "display_name": "py-daily",
   "language": "python",
   "name": "python3"
  },
  "language_info": {
   "codemirror_mode": {
    "name": "ipython",
    "version": 3
   },
   "file_extension": ".py",
   "mimetype": "text/x-python",
   "name": "python",
   "nbconvert_exporter": "python",
   "pygments_lexer": "ipython3",
   "version": "3.9.12"
  },
  "orig_nbformat": 4
 },
 "nbformat": 4,
 "nbformat_minor": 2
}
